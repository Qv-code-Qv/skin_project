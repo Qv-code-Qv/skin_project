{
 "cells": [
  {
   "cell_type": "markdown",
   "metadata": {
    "id": "5ioDzP527cnN"
   },
   "source": [
    "1. Import the classic librairies \n",
    "  * Tensorflow 2.0\n",
    "  * Numpy \n",
    "  * Matplotlib"
   ]
  },
  {
   "cell_type": "code",
   "execution_count": 1,
   "metadata": {},
   "outputs": [
    {
     "name": "stdout",
     "output_type": "stream",
     "text": [
      "Collecting pydot\n",
      "  Downloading pydot-2.0.0-py3-none-any.whl.metadata (9.6 kB)\n",
      "Collecting pyparsing>=3 (from pydot)\n",
      "  Downloading pyparsing-3.1.2-py3-none-any.whl.metadata (5.1 kB)\n",
      "Downloading pydot-2.0.0-py3-none-any.whl (22 kB)\n",
      "Downloading pyparsing-3.1.2-py3-none-any.whl (103 kB)\n",
      "\u001b[2K   \u001b[90m━━━━━━━━━━━━━━━━━━━━━━━━━━━━━━━━━━━━━━━━\u001b[0m \u001b[32m103.2/103.2 kB\u001b[0m \u001b[31m2.6 MB/s\u001b[0m eta \u001b[36m0:00:00\u001b[0ma \u001b[36m0:00:01\u001b[0m\n",
      "\u001b[?25hInstalling collected packages: pyparsing, pydot\n",
      "  Attempting uninstall: pyparsing\n",
      "    Found existing installation: pyparsing 2.4.7\n",
      "    Uninstalling pyparsing-2.4.7:\n",
      "      Successfully uninstalled pyparsing-2.4.7\n",
      "Successfully installed pydot-2.0.0 pyparsing-3.1.2\n",
      "\u001b[33mWARNING: Running pip as the 'root' user can result in broken permissions and conflicting behaviour with the system package manager. It is recommended to use a virtual environment instead: https://pip.pypa.io/warnings/venv\u001b[0m\u001b[33m\n",
      "\u001b[0m"
     ]
    }
   ],
   "source": [
    "!pip install pydot"
   ]
  },
  {
   "cell_type": "code",
   "execution_count": 2,
   "metadata": {
    "colab": {
     "base_uri": "https://localhost:8080/",
     "height": 35
    },
    "executionInfo": {
     "elapsed": 1908,
     "status": "ok",
     "timestamp": 1618246146641,
     "user": {
      "displayName": "Charles Tanguy",
      "photoUrl": "",
      "userId": "11930294859591867631"
     },
     "user_tz": -120
    },
    "id": "DeVbF5nfoJRF",
    "outputId": "15b9a77c-e47b-43ca-b558-be92a5d989b0"
   },
   "outputs": [
    {
     "name": "stderr",
     "output_type": "stream",
     "text": [
      "2024-06-10 21:00:38.147803: I tensorflow/core/util/port.cc:153] oneDNN custom operations are on. You may see slightly different numerical results due to floating-point round-off errors from different computation orders. To turn them off, set the environment variable `TF_ENABLE_ONEDNN_OPTS=0`.\n",
      "2024-06-10 21:00:38.715306: I tensorflow/core/platform/cpu_feature_guard.cc:210] This TensorFlow binary is optimized to use available CPU instructions in performance-critical operations.\n",
      "To enable the following instructions: AVX2 AVX512F AVX512_VNNI FMA, in other operations, rebuild TensorFlow with the appropriate compiler flags.\n"
     ]
    },
    {
     "data": {
      "text/plain": [
       "'2.17.0-dev20240531'"
      ]
     },
     "execution_count": 2,
     "metadata": {},
     "output_type": "execute_result"
    }
   ],
   "source": [
    "import tensorflow as tf \n",
    "import numpy as np \n",
    "import matplotlib.pyplot as plt \n",
    "from keras import regularizers\n",
    "tf.__version__"
   ]
  },
  {
   "cell_type": "markdown",
   "metadata": {
    "id": "6RADkKYS7xs1"
   },
   "source": [
    "2. Using [`tf.keras.utils.get_file()`](https://www.tensorflow.org/api_docs/python/tf/keras/utils/get_file), download and extract the Caltech101 dataset from this link: https://full-stack-bigdata-datasets.s3.eu-west-3.amazonaws.com/Deep+learning+Images+processing/Transfer+Learning/101_ObjectCategories.tar.gz"
   ]
  },
  {
   "cell_type": "code",
   "execution_count": null,
   "metadata": {
    "colab": {
     "base_uri": "https://localhost:8080/",
     "height": 90
    },
    "executionInfo": {
     "elapsed": 5404,
     "status": "ok",
     "timestamp": 1618246328980,
     "user": {
      "displayName": "Charles Tanguy",
      "photoUrl": "",
      "userId": "11930294859591867631"
     },
     "user_tz": -120
    },
    "id": "UtDdIg5swyQw",
    "outputId": "80d78572-6f34-4368-a0dd-90cdf9466272"
   },
   "outputs": [],
   "source": [
    "#path = tf.keras.utils.get_file(fname=\"/tf/notebooks/content/101_ObjectCategories.tar.gz\",\n",
    "#                        origin=\"https://full-stack-bigdata-datasets.s3.eu-west-3.amazonaws.com/Deep+learning+Images+processing/Transfer+Learning/101_ObjectCategories.tar.gz\")\n",
    "#print(path)"
   ]
  },
  {
   "cell_type": "markdown",
   "metadata": {
    "id": "n8te7uU_4M8-"
   },
   "source": [
    "3. We successfully downloaded the data, however we need to extract the zipped archive to access the image files. We can do so by using the `shutil` library and it's function `unpack_archive` to do so."
   ]
  },
  {
   "cell_type": "code",
   "execution_count": null,
   "metadata": {
    "colab": {
     "base_uri": "https://localhost:8080/"
    },
    "executionInfo": {
     "elapsed": 3881,
     "status": "ok",
     "timestamp": 1618246333853,
     "user": {
      "displayName": "Charles Tanguy",
      "photoUrl": "",
      "userId": "11930294859591867631"
     },
     "user_tz": -120
    },
    "id": "kbBBfrBrN2bO",
    "outputId": "d09c176d-2649-4b23-c260-8fec1592b7bb"
   },
   "outputs": [],
   "source": [
    "# importing shutil module \n",
    "#import shutil \n",
    "\n",
    "# Full path of \n",
    "# the archive file \n",
    "#filename = \"/content/101_ObjectCategories.tar.gz\"\n",
    "\n",
    "# Target directory \n",
    "#extract_dir = \"/content\"\n",
    "\n",
    "# Format of archie file \n",
    "#archive_format = \"gztar\"\n",
    "\n",
    "# Unpack the archive file \n",
    "#shutil.unpack_archive(filename, extract_dir, archive_format) \n",
    "#print(\"Archive file unpacked successfully.\") \n"
   ]
  },
  {
   "cell_type": "markdown",
   "metadata": {
    "id": "WniRffKlTSMW"
   },
   "source": [
    "# Preprocessing with ImageDataGenerator\n",
    "\n",
    "We will now proceed to the preprocessing of our data. The easiest way to do so is using an `ImageDataGenerator`, that is a very straight forward way to load and preprocess image data for training deep learning models.\n",
    "\n",
    "1. Instanciate an <a href=\"https://www.tensorflow.org/api_docs/python/tf/keras/preprocessing/image/ImageDataGenerator\"> ImageDataGenerator </a> with the parameters of your choice, we can adapt them later as we visualize the images and assess the difficulty of the problem."
   ]
  },
  {
   "cell_type": "code",
   "execution_count": 3,
   "metadata": {},
   "outputs": [],
   "source": [
    "BATCH_SIZE = 32\n",
    "\n",
    "image_height = 512\n",
    "image_width = 512"
   ]
  },
  {
   "cell_type": "code",
   "execution_count": 2,
   "metadata": {
    "executionInfo": {
     "elapsed": 633,
     "status": "ok",
     "timestamp": 1618246342957,
     "user": {
      "displayName": "Charles Tanguy",
      "photoUrl": "",
      "userId": "11930294859591867631"
     },
     "user_tz": -120
    },
    "id": "Yh7dePadTP-b"
   },
   "outputs": [],
   "source": [
    "'''img_generator = tf.keras.preprocessing.image.ImageDataGenerator(#rotation_range=90,\n",
    "                                                                brightness_range=(0.5,1), \n",
    "                                                                #shear_range=0.2, \n",
    "                                                                #zoom_range=0.2,\n",
    "                                                                channel_shift_range=0.2,\n",
    "                                                                horizontal_flip=True,\n",
    "                                                                vertical_flip=True,\n",
    "                                                                rescale=1./255,\n",
    "                                                                validation_split=0.3)\n",
    "                                                                '''"
   ]
  },
  {
   "cell_type": "code",
   "execution_count": 4,
   "metadata": {
    "executionInfo": {
     "elapsed": 633,
     "status": "ok",
     "timestamp": 1618246342957,
     "user": {
      "displayName": "Charles Tanguy",
      "photoUrl": "",
      "userId": "11930294859591867631"
     },
     "user_tz": -120
    },
    "id": "Yh7dePadTP-b"
   },
   "outputs": [],
   "source": [
    "img_generator = tf.keras.preprocessing.image.ImageDataGenerator(rescale=1./255)"
   ]
  },
  {
   "cell_type": "markdown",
   "metadata": {
    "id": "3CnfcVi40nqq"
   },
   "source": [
    "2. Prepare two objects `img_generator_flow_train` and `img_generator_flow_valid` thanks to the method `flow_from_directory`. Why is this method well suited to our usecase?\n",
    "Use a `target_size` of `(224,224)` and the rest is up to your appreciation."
   ]
  },
  {
   "cell_type": "code",
   "execution_count": 5,
   "metadata": {
    "colab": {
     "base_uri": "https://localhost:8080/"
    },
    "executionInfo": {
     "elapsed": 806,
     "status": "ok",
     "timestamp": 1618246345412,
     "user": {
      "displayName": "Charles Tanguy",
      "photoUrl": "",
      "userId": "11930294859591867631"
     },
     "user_tz": -120
    },
    "id": "_LvBCKUoV4ZJ",
    "outputId": "4eaa9a71-a063-40b6-9d5e-b88e590c96de"
   },
   "outputs": [
    {
     "name": "stdout",
     "output_type": "stream",
     "text": [
      "Found 15782 images belonging to 24 classes.\n",
      "Found 0 images belonging to 24 classes.\n"
     ]
    }
   ],
   "source": [
    "img_generator_flow_train = img_generator.flow_from_directory(\n",
    "    directory=\"/tf/notebooks/content/data/train\",\n",
    "    target_size=(image_height, image_width),\n",
    "    batch_size=32,\n",
    "    shuffle=True,\n",
    "    subset=\"training\")\n",
    "\n",
    "img_generator_flow_valid = img_generator.flow_from_directory(\n",
    "    directory=\"/tf/notebooks/content/data/train\",\n",
    "    target_size=(image_height, image_width),\n",
    "    batch_size=32,\n",
    "    shuffle=True,\n",
    "    subset=\"validation\")"
   ]
  },
  {
   "cell_type": "markdown",
   "metadata": {
    "id": "O4TrPF_01u_i"
   },
   "source": [
    "3. Visualize a batch of images coming from the train set. Do you notice anyhting we will have to take into consideration when building the model?"
   ]
  },
  {
   "cell_type": "code",
   "execution_count": 6,
   "metadata": {},
   "outputs": [
    {
     "name": "stdout",
     "output_type": "stream",
     "text": [
      "Dictionary: {'Acne and Rosacea Photos': 0, 'Actinic Keratosis Basal Cell Carcinoma and other Malignant Lesions': 1, 'Atopic Dermatitis Photos': 2, 'Bullous Disease Photos': 3, 'Cellulitis Impetigo and other Bacterial Infections': 4, 'Eczema Photos': 5, 'Exanthems and Drug Eruptions': 6, 'Hair Loss Photos Alopecia and other Hair Diseases': 7, 'Healthy skins': 8, 'Herpes HPV and other STDs Photos': 9, 'Light Diseases and Disorders of Pigmentation': 10, 'Lupus and other Connective Tissue diseases': 11, 'Melanoma Skin Cancer Nevi and Moles': 12, 'Nail Fungus and other Nail Disease': 13, 'Poison Ivy Photos and other Contact Dermatitis': 14, 'Psoriasis pictures Lichen Planus and related diseases': 15, 'Scabies Lyme Disease and other Infestations and Bites': 16, 'Seborrheic Keratoses and other Benign Tumors': 17, 'Systemic Disease': 18, 'Tinea Ringworm Candidiasis and other Fungal Infections': 19, 'Urticaria Hives': 20, 'Vascular Tumors': 21, 'Vasculitis Photos': 22, 'Warts Molluscum and other Viral Infections': 23}\n",
      "Class labels: ['Acne and Rosacea Photos', 'Actinic Keratosis Basal Cell Carcinoma and other Malignant Lesions', 'Atopic Dermatitis Photos', 'Bullous Disease Photos', 'Cellulitis Impetigo and other Bacterial Infections', 'Eczema Photos', 'Exanthems and Drug Eruptions', 'Hair Loss Photos Alopecia and other Hair Diseases', 'Healthy skins', 'Herpes HPV and other STDs Photos', 'Light Diseases and Disorders of Pigmentation', 'Lupus and other Connective Tissue diseases', 'Melanoma Skin Cancer Nevi and Moles', 'Nail Fungus and other Nail Disease', 'Poison Ivy Photos and other Contact Dermatitis', 'Psoriasis pictures Lichen Planus and related diseases', 'Scabies Lyme Disease and other Infestations and Bites', 'Seborrheic Keratoses and other Benign Tumors', 'Systemic Disease', 'Tinea Ringworm Candidiasis and other Fungal Infections', 'Urticaria Hives', 'Vascular Tumors', 'Vasculitis Photos', 'Warts Molluscum and other Viral Infections']\n"
     ]
    }
   ],
   "source": [
    "dict_class = img_generator_flow_train.class_indices\n",
    "print('Dictionary: {}'.format(dict_class))\n",
    "class_names = list(dict_class.keys())  # storing class/breed names in a list\n",
    "print('Class labels: {}'.format(class_names))"
   ]
  },
  {
   "cell_type": "code",
   "execution_count": null,
   "metadata": {
    "colab": {
     "base_uri": "https://localhost:8080/",
     "height": 1000,
     "output_embedded_package_id": "1r6vfUhu2vhpaZxhpfqxZfln_CGq7z-eU"
    },
    "executionInfo": {
     "elapsed": 12528,
     "status": "ok",
     "timestamp": 1617810476908,
     "user": {
      "displayName": "Charles Tanguy",
      "photoUrl": "",
      "userId": "11930294859591867631"
     },
     "user_tz": -120
    },
    "id": "6Iwd3V0LWvIr",
    "outputId": "a2c8fade-2953-418a-a35f-841f16d00c5e"
   },
   "outputs": [],
   "source": [
    "# Image Samples\n",
    "print('Train image data from Data Augmentation 1')\n",
    "img, label = next(img_generator1)\n",
    "# print(len(label))\n",
    "\n",
    "plt.figure(figsize=[14, 12])\n",
    "for i in range(5):\n",
    "    plt.subplot(5, 5, i+1)\n",
    "    plt.imshow(img[i])\n",
    "    plt.axis('off')\n",
    "    plt.title(class_names[np.argmax(label[i])])   \n",
    "'''\n",
    "plt.show()imgs, labels = next(iter(img_generator_flow_train))\n",
    "for img, label in zip(imgs, labels):\n",
    "  plt.imshow(img)\n",
    "  plt.title(label)\n",
    "  plt.show()\n",
    "  '''"
   ]
  },
  {
   "cell_type": "markdown",
   "metadata": {
    "id": "DK_WyoLK2PcM"
   },
   "source": [
    "# Transfer Learning\n",
    "\n",
    "1. Import a pretrained model from tensorflow, the solution will use the example of <a href=\"https://www.tensorflow.org/api_docs/python/tf/keras/applications/InceptionV3\"> InceptionV3 </a>, but feel free to use different architecture if you would like to get a different point of view. Make sure you use the pretrained weights frome `imagenet`."
   ]
  },
  {
   "cell_type": "code",
   "execution_count": 28,
   "metadata": {
    "colab": {
     "base_uri": "https://localhost:8080/"
    },
    "executionInfo": {
     "elapsed": 16833,
     "status": "ok",
     "timestamp": 1617810482762,
     "user": {
      "displayName": "Charles Tanguy",
      "photoUrl": "",
      "userId": "11930294859591867631"
     },
     "user_tz": -120
    },
    "id": "oZx7RoskUhos",
    "outputId": "2be71875-3c25-4abb-f6a8-6e5de521f0a8"
   },
   "outputs": [],
   "source": [
    "base_model = tf.keras.applications.InceptionV3(input_shape=(image_height,image_width,3),\n",
    "                                               include_top=False,\n",
    "                                               weights = \"imagenet\"\n",
    "                                               )"
   ]
  },
  {
   "cell_type": "markdown",
   "metadata": {
    "id": "CfrYvfEbjmb2"
   },
   "source": [
    "2. Set the weights of your imported model as non-trainable "
   ]
  },
  {
   "cell_type": "code",
   "execution_count": 27,
   "metadata": {},
   "outputs": [
    {
     "ename": "AttributeError",
     "evalue": "module 'pydot' has no attribute 'InvocationException'",
     "output_type": "error",
     "traceback": [
      "\u001b[0;31m---------------------------------------------------------------------------\u001b[0m",
      "\u001b[0;31mFileNotFoundError\u001b[0m                         Traceback (most recent call last)",
      "File \u001b[0;32m/usr/local/lib/python3.11/dist-packages/pydot/core.py:1753\u001b[0m, in \u001b[0;36mDot.create\u001b[0;34m(self, prog, format, encoding)\u001b[0m\n\u001b[1;32m   1752\u001b[0m \u001b[38;5;28;01mtry\u001b[39;00m:\n\u001b[0;32m-> 1753\u001b[0m     stdout_data, stderr_data, process \u001b[38;5;241m=\u001b[39m \u001b[43mcall_graphviz\u001b[49m\u001b[43m(\u001b[49m\n\u001b[1;32m   1754\u001b[0m \u001b[43m        \u001b[49m\u001b[43mprogram\u001b[49m\u001b[38;5;241;43m=\u001b[39;49m\u001b[43mprog\u001b[49m\u001b[43m,\u001b[49m\n\u001b[1;32m   1755\u001b[0m \u001b[43m        \u001b[49m\u001b[43marguments\u001b[49m\u001b[38;5;241;43m=\u001b[39;49m\u001b[43marguments\u001b[49m\u001b[43m,\u001b[49m\n\u001b[1;32m   1756\u001b[0m \u001b[43m        \u001b[49m\u001b[43mworking_dir\u001b[49m\u001b[38;5;241;43m=\u001b[39;49m\u001b[43mtmp_dir\u001b[49m\u001b[43m,\u001b[49m\n\u001b[1;32m   1757\u001b[0m \u001b[43m    \u001b[49m\u001b[43m)\u001b[49m\n\u001b[1;32m   1758\u001b[0m \u001b[38;5;28;01mexcept\u001b[39;00m \u001b[38;5;167;01mOSError\u001b[39;00m \u001b[38;5;28;01mas\u001b[39;00m e:\n",
      "File \u001b[0;32m/usr/local/lib/python3.11/dist-packages/pydot/core.py:133\u001b[0m, in \u001b[0;36mcall_graphviz\u001b[0;34m(program, arguments, working_dir, **kwargs)\u001b[0m\n\u001b[1;32m    131\u001b[0m program_with_args \u001b[38;5;241m=\u001b[39m [program] \u001b[38;5;241m+\u001b[39m arguments\n\u001b[0;32m--> 133\u001b[0m process \u001b[38;5;241m=\u001b[39m \u001b[43msubprocess\u001b[49m\u001b[38;5;241;43m.\u001b[39;49m\u001b[43mPopen\u001b[49m\u001b[43m(\u001b[49m\n\u001b[1;32m    134\u001b[0m \u001b[43m    \u001b[49m\u001b[43mprogram_with_args\u001b[49m\u001b[43m,\u001b[49m\n\u001b[1;32m    135\u001b[0m \u001b[43m    \u001b[49m\u001b[43menv\u001b[49m\u001b[38;5;241;43m=\u001b[39;49m\u001b[43menv\u001b[49m\u001b[43m,\u001b[49m\n\u001b[1;32m    136\u001b[0m \u001b[43m    \u001b[49m\u001b[43mcwd\u001b[49m\u001b[38;5;241;43m=\u001b[39;49m\u001b[43mworking_dir\u001b[49m\u001b[43m,\u001b[49m\n\u001b[1;32m    137\u001b[0m \u001b[43m    \u001b[49m\u001b[43mshell\u001b[49m\u001b[38;5;241;43m=\u001b[39;49m\u001b[38;5;28;43;01mFalse\u001b[39;49;00m\u001b[43m,\u001b[49m\n\u001b[1;32m    138\u001b[0m \u001b[43m    \u001b[49m\u001b[43mstderr\u001b[49m\u001b[38;5;241;43m=\u001b[39;49m\u001b[43msubprocess\u001b[49m\u001b[38;5;241;43m.\u001b[39;49m\u001b[43mPIPE\u001b[49m\u001b[43m,\u001b[49m\n\u001b[1;32m    139\u001b[0m \u001b[43m    \u001b[49m\u001b[43mstdout\u001b[49m\u001b[38;5;241;43m=\u001b[39;49m\u001b[43msubprocess\u001b[49m\u001b[38;5;241;43m.\u001b[39;49m\u001b[43mPIPE\u001b[49m\u001b[43m,\u001b[49m\n\u001b[1;32m    140\u001b[0m \u001b[43m    \u001b[49m\u001b[38;5;241;43m*\u001b[39;49m\u001b[38;5;241;43m*\u001b[39;49m\u001b[43mkwargs\u001b[49m\u001b[43m,\u001b[49m\n\u001b[1;32m    141\u001b[0m \u001b[43m\u001b[49m\u001b[43m)\u001b[49m\n\u001b[1;32m    142\u001b[0m stdout_data, stderr_data \u001b[38;5;241m=\u001b[39m process\u001b[38;5;241m.\u001b[39mcommunicate()\n",
      "File \u001b[0;32m/usr/lib/python3.11/subprocess.py:1022\u001b[0m, in \u001b[0;36mPopen.__init__\u001b[0;34m(self, args, bufsize, executable, stdin, stdout, stderr, preexec_fn, close_fds, shell, cwd, env, universal_newlines, startupinfo, creationflags, restore_signals, start_new_session, pass_fds, user, group, extra_groups, encoding, errors, text, umask, pipesize, process_group)\u001b[0m\n\u001b[1;32m   1019\u001b[0m             \u001b[38;5;28mself\u001b[39m\u001b[38;5;241m.\u001b[39mstderr \u001b[38;5;241m=\u001b[39m io\u001b[38;5;241m.\u001b[39mTextIOWrapper(\u001b[38;5;28mself\u001b[39m\u001b[38;5;241m.\u001b[39mstderr,\n\u001b[1;32m   1020\u001b[0m                     encoding\u001b[38;5;241m=\u001b[39mencoding, errors\u001b[38;5;241m=\u001b[39merrors)\n\u001b[0;32m-> 1022\u001b[0m     \u001b[38;5;28;43mself\u001b[39;49m\u001b[38;5;241;43m.\u001b[39;49m\u001b[43m_execute_child\u001b[49m\u001b[43m(\u001b[49m\u001b[43margs\u001b[49m\u001b[43m,\u001b[49m\u001b[43m \u001b[49m\u001b[43mexecutable\u001b[49m\u001b[43m,\u001b[49m\u001b[43m \u001b[49m\u001b[43mpreexec_fn\u001b[49m\u001b[43m,\u001b[49m\u001b[43m \u001b[49m\u001b[43mclose_fds\u001b[49m\u001b[43m,\u001b[49m\n\u001b[1;32m   1023\u001b[0m \u001b[43m                        \u001b[49m\u001b[43mpass_fds\u001b[49m\u001b[43m,\u001b[49m\u001b[43m \u001b[49m\u001b[43mcwd\u001b[49m\u001b[43m,\u001b[49m\u001b[43m \u001b[49m\u001b[43menv\u001b[49m\u001b[43m,\u001b[49m\n\u001b[1;32m   1024\u001b[0m \u001b[43m                        \u001b[49m\u001b[43mstartupinfo\u001b[49m\u001b[43m,\u001b[49m\u001b[43m \u001b[49m\u001b[43mcreationflags\u001b[49m\u001b[43m,\u001b[49m\u001b[43m \u001b[49m\u001b[43mshell\u001b[49m\u001b[43m,\u001b[49m\n\u001b[1;32m   1025\u001b[0m \u001b[43m                        \u001b[49m\u001b[43mp2cread\u001b[49m\u001b[43m,\u001b[49m\u001b[43m \u001b[49m\u001b[43mp2cwrite\u001b[49m\u001b[43m,\u001b[49m\n\u001b[1;32m   1026\u001b[0m \u001b[43m                        \u001b[49m\u001b[43mc2pread\u001b[49m\u001b[43m,\u001b[49m\u001b[43m \u001b[49m\u001b[43mc2pwrite\u001b[49m\u001b[43m,\u001b[49m\n\u001b[1;32m   1027\u001b[0m \u001b[43m                        \u001b[49m\u001b[43merrread\u001b[49m\u001b[43m,\u001b[49m\u001b[43m \u001b[49m\u001b[43merrwrite\u001b[49m\u001b[43m,\u001b[49m\n\u001b[1;32m   1028\u001b[0m \u001b[43m                        \u001b[49m\u001b[43mrestore_signals\u001b[49m\u001b[43m,\u001b[49m\n\u001b[1;32m   1029\u001b[0m \u001b[43m                        \u001b[49m\u001b[43mgid\u001b[49m\u001b[43m,\u001b[49m\u001b[43m \u001b[49m\u001b[43mgids\u001b[49m\u001b[43m,\u001b[49m\u001b[43m \u001b[49m\u001b[43muid\u001b[49m\u001b[43m,\u001b[49m\u001b[43m \u001b[49m\u001b[43mumask\u001b[49m\u001b[43m,\u001b[49m\n\u001b[1;32m   1030\u001b[0m \u001b[43m                        \u001b[49m\u001b[43mstart_new_session\u001b[49m\u001b[43m,\u001b[49m\u001b[43m \u001b[49m\u001b[43mprocess_group\u001b[49m\u001b[43m)\u001b[49m\n\u001b[1;32m   1031\u001b[0m \u001b[38;5;28;01mexcept\u001b[39;00m:\n\u001b[1;32m   1032\u001b[0m     \u001b[38;5;66;03m# Cleanup if the child failed starting.\u001b[39;00m\n",
      "File \u001b[0;32m/usr/lib/python3.11/subprocess.py:1899\u001b[0m, in \u001b[0;36mPopen._execute_child\u001b[0;34m(self, args, executable, preexec_fn, close_fds, pass_fds, cwd, env, startupinfo, creationflags, shell, p2cread, p2cwrite, c2pread, c2pwrite, errread, errwrite, restore_signals, gid, gids, uid, umask, start_new_session, process_group)\u001b[0m\n\u001b[1;32m   1898\u001b[0m         err_msg \u001b[38;5;241m=\u001b[39m os\u001b[38;5;241m.\u001b[39mstrerror(errno_num)\n\u001b[0;32m-> 1899\u001b[0m     \u001b[38;5;28;01mraise\u001b[39;00m child_exception_type(errno_num, err_msg, err_filename)\n\u001b[1;32m   1900\u001b[0m \u001b[38;5;28;01mraise\u001b[39;00m child_exception_type(err_msg)\n",
      "\u001b[0;31mFileNotFoundError\u001b[0m: [Errno 2] No such file or directory: 'dot'",
      "\nDuring handling of the above exception, another exception occurred:\n",
      "\u001b[0;31mFileNotFoundError\u001b[0m                         Traceback (most recent call last)",
      "File \u001b[0;32m/usr/local/lib/python3.11/dist-packages/keras/src/utils/model_visualization.py:37\u001b[0m, in \u001b[0;36mcheck_graphviz\u001b[0;34m()\u001b[0m\n\u001b[1;32m     34\u001b[0m \u001b[38;5;28;01mtry\u001b[39;00m:\n\u001b[1;32m     35\u001b[0m     \u001b[38;5;66;03m# Attempt to create an image of a blank graph\u001b[39;00m\n\u001b[1;32m     36\u001b[0m     \u001b[38;5;66;03m# to check the pydot/graphviz installation.\u001b[39;00m\n\u001b[0;32m---> 37\u001b[0m     \u001b[43mpydot\u001b[49m\u001b[38;5;241;43m.\u001b[39;49m\u001b[43mDot\u001b[49m\u001b[38;5;241;43m.\u001b[39;49m\u001b[43mcreate\u001b[49m\u001b[43m(\u001b[49m\u001b[43mpydot\u001b[49m\u001b[38;5;241;43m.\u001b[39;49m\u001b[43mDot\u001b[49m\u001b[43m(\u001b[49m\u001b[43m)\u001b[49m\u001b[43m)\u001b[49m\n\u001b[1;32m     38\u001b[0m     \u001b[38;5;28;01mreturn\u001b[39;00m \u001b[38;5;28;01mTrue\u001b[39;00m\n",
      "File \u001b[0;32m/usr/local/lib/python3.11/dist-packages/pydot/core.py:1762\u001b[0m, in \u001b[0;36mDot.create\u001b[0;34m(self, prog, format, encoding)\u001b[0m\n\u001b[1;32m   1761\u001b[0m     args[\u001b[38;5;241m1\u001b[39m] \u001b[38;5;241m=\u001b[39m \u001b[38;5;124m'\u001b[39m\u001b[38;5;124m\"\u001b[39m\u001b[38;5;132;01m{prog}\u001b[39;00m\u001b[38;5;124m\"\u001b[39m\u001b[38;5;124m not found in path.\u001b[39m\u001b[38;5;124m'\u001b[39m\u001b[38;5;241m.\u001b[39mformat(prog\u001b[38;5;241m=\u001b[39mprog)\n\u001b[0;32m-> 1762\u001b[0m     \u001b[38;5;28;01mraise\u001b[39;00m \u001b[38;5;167;01mOSError\u001b[39;00m(\u001b[38;5;241m*\u001b[39margs)\n\u001b[1;32m   1763\u001b[0m \u001b[38;5;28;01melse\u001b[39;00m:\n",
      "\u001b[0;31mFileNotFoundError\u001b[0m: [Errno 2] \"dot\" not found in path.",
      "\nDuring handling of the above exception, another exception occurred:\n",
      "\u001b[0;31mAttributeError\u001b[0m                            Traceback (most recent call last)",
      "Cell \u001b[0;32mIn[27], line 2\u001b[0m\n\u001b[1;32m      1\u001b[0m \u001b[38;5;28;01mfrom\u001b[39;00m \u001b[38;5;21;01mtensorflow\u001b[39;00m\u001b[38;5;21;01m.\u001b[39;00m\u001b[38;5;21;01mkeras\u001b[39;00m\u001b[38;5;21;01m.\u001b[39;00m\u001b[38;5;21;01mutils\u001b[39;00m \u001b[38;5;28;01mimport\u001b[39;00m plot_model\n\u001b[0;32m----> 2\u001b[0m \u001b[43mplot_model\u001b[49m\u001b[43m(\u001b[49m\u001b[43mbase_model\u001b[49m\u001b[43m,\u001b[49m\u001b[43m \u001b[49m\u001b[43mshow_shapes\u001b[49m\u001b[38;5;241;43m=\u001b[39;49m\u001b[38;5;28;43;01mTrue\u001b[39;49;00m\u001b[43m,\u001b[49m\u001b[43m \u001b[49m\u001b[43mshow_layer_names\u001b[49m\u001b[38;5;241;43m=\u001b[39;49m\u001b[38;5;28;43;01mTrue\u001b[39;49;00m\u001b[43m)\u001b[49m\n",
      "File \u001b[0;32m/usr/local/lib/python3.11/dist-packages/keras/src/utils/model_visualization.py:430\u001b[0m, in \u001b[0;36mplot_model\u001b[0;34m(model, to_file, show_shapes, show_dtype, show_layer_names, rankdir, expand_nested, dpi, show_layer_activations, show_trainable, **kwargs)\u001b[0m\n\u001b[1;32m    428\u001b[0m     \u001b[38;5;28;01melse\u001b[39;00m:\n\u001b[1;32m    429\u001b[0m         \u001b[38;5;28;01mraise\u001b[39;00m \u001b[38;5;167;01mImportError\u001b[39;00m(message)\n\u001b[0;32m--> 430\u001b[0m \u001b[38;5;28;01mif\u001b[39;00m \u001b[38;5;129;01mnot\u001b[39;00m \u001b[43mcheck_graphviz\u001b[49m\u001b[43m(\u001b[49m\u001b[43m)\u001b[49m:\n\u001b[1;32m    431\u001b[0m     message \u001b[38;5;241m=\u001b[39m (\n\u001b[1;32m    432\u001b[0m         \u001b[38;5;124m\"\u001b[39m\u001b[38;5;124mYou must install graphviz \u001b[39m\u001b[38;5;124m\"\u001b[39m\n\u001b[1;32m    433\u001b[0m         \u001b[38;5;124m\"\u001b[39m\u001b[38;5;124m(see instructions at https://graphviz.gitlab.io/download/) \u001b[39m\u001b[38;5;124m\"\u001b[39m\n\u001b[1;32m    434\u001b[0m         \u001b[38;5;124m\"\u001b[39m\u001b[38;5;124mfor `plot_model` to work.\u001b[39m\u001b[38;5;124m\"\u001b[39m\n\u001b[1;32m    435\u001b[0m     )\n\u001b[1;32m    436\u001b[0m     \u001b[38;5;28;01mif\u001b[39;00m \u001b[38;5;124m\"\u001b[39m\u001b[38;5;124mIPython.core.magics.namespace\u001b[39m\u001b[38;5;124m\"\u001b[39m \u001b[38;5;129;01min\u001b[39;00m sys\u001b[38;5;241m.\u001b[39mmodules:\n\u001b[1;32m    437\u001b[0m         \u001b[38;5;66;03m# We don't raise an exception here in order to avoid crashing\u001b[39;00m\n\u001b[1;32m    438\u001b[0m         \u001b[38;5;66;03m# notebook tests where graphviz is not available.\u001b[39;00m\n",
      "File \u001b[0;32m/usr/local/lib/python3.11/dist-packages/keras/src/utils/model_visualization.py:39\u001b[0m, in \u001b[0;36mcheck_graphviz\u001b[0;34m()\u001b[0m\n\u001b[1;32m     37\u001b[0m     pydot\u001b[38;5;241m.\u001b[39mDot\u001b[38;5;241m.\u001b[39mcreate(pydot\u001b[38;5;241m.\u001b[39mDot())\n\u001b[1;32m     38\u001b[0m     \u001b[38;5;28;01mreturn\u001b[39;00m \u001b[38;5;28;01mTrue\u001b[39;00m\n\u001b[0;32m---> 39\u001b[0m \u001b[38;5;28;01mexcept\u001b[39;00m (\u001b[38;5;167;01mOSError\u001b[39;00m, \u001b[43mpydot\u001b[49m\u001b[38;5;241;43m.\u001b[39;49m\u001b[43mInvocationException\u001b[49m):\n\u001b[1;32m     40\u001b[0m     \u001b[38;5;28;01mreturn\u001b[39;00m \u001b[38;5;28;01mFalse\u001b[39;00m\n",
      "\u001b[0;31mAttributeError\u001b[0m: module 'pydot' has no attribute 'InvocationException'"
     ]
    }
   ],
   "source": [
    "'''\n",
    "from tensorflow.keras.utils import plot_model\n",
    "plot_model(base_model, show_shapes=True, show_layer_names=True)\n",
    "'''"
   ]
  },
  {
   "cell_type": "code",
   "execution_count": 29,
   "metadata": {
    "executionInfo": {
     "elapsed": 1192,
     "status": "ok",
     "timestamp": 1617812773317,
     "user": {
      "displayName": "Charles Tanguy",
      "photoUrl": "",
      "userId": "11930294859591867631"
     },
     "user_tz": -120
    },
    "id": "kWjGOyar20F5"
   },
   "outputs": [],
   "source": [
    "base_model.save(\"/tf/notebooks/baseModel_skinInceptionV3_1.keras\")"
   ]
  },
  {
   "cell_type": "code",
   "execution_count": 4,
   "metadata": {},
   "outputs": [
    {
     "name": "stderr",
     "output_type": "stream",
     "text": [
      "2024-06-08 23:00:21.519334: E external/local_xla/xla/stream_executor/cuda/cuda_driver.cc:266] failed call to cuInit: UNKNOWN ERROR (34)\n"
     ]
    }
   ],
   "source": [
    "#base_model = tf.keras.models.load_model(\"/tf/notebooks/baseModel_skinInceptionV3.keras\")"
   ]
  },
  {
   "cell_type": "code",
   "execution_count": 30,
   "metadata": {
    "executionInfo": {
     "elapsed": 14699,
     "status": "ok",
     "timestamp": 1617810482764,
     "user": {
      "displayName": "Charles Tanguy",
      "photoUrl": "",
      "userId": "11930294859591867631"
     },
     "user_tz": -120
    },
    "id": "SscDh01oVHVX"
   },
   "outputs": [],
   "source": [
    "base_model.trainable = False"
   ]
  },
  {
   "cell_type": "code",
   "execution_count": 47,
   "metadata": {},
   "outputs": [],
   "source": [
    "# Create a new model and add the InceptionV3 base model\n",
    "model = tf.keras.Sequential()\n",
    "model.add(base_model)\n",
    "\n",
    "    # Add a global average pooling layer and output layer for classification\n",
    "model.add(tf.keras.layers.GlobalAveragePooling2D())\n",
    "model.add(tf.keras.layers.Dense(128, activation='relu', kernel_regularizer=regularizers.l2(0.001)))\n",
    "model.add(tf.keras.layers.Dropout(0.4))\n",
    "model.add(tf.keras.layers.Dense(64, activation='relu', kernel_regularizer=regularizers.l2(0.001)))\n",
    "model.add(tf.keras.layers.Dropout(0.2))\n",
    "model.add(tf.keras.layers.Dense(24, activation='softmax'))"
   ]
  },
  {
   "cell_type": "markdown",
   "metadata": {
    "id": "I4h28SxejrZg"
   },
   "source": [
    "3. Create now your complete model by adding the last layer adapted to your situation "
   ]
  },
  {
   "cell_type": "code",
   "execution_count": 20,
   "metadata": {
    "executionInfo": {
     "elapsed": 13455,
     "status": "ok",
     "timestamp": 1617810483613,
     "user": {
      "displayName": "Charles Tanguy",
      "photoUrl": "",
      "userId": "11930294859591867631"
     },
     "user_tz": -120
    },
    "id": "S9GL3TRYVSsD"
   },
   "outputs": [],
   "source": [
    "'''\n",
    "model = tf.keras.Sequential([\n",
    "    base_model,\n",
    "    tf.keras.layers.MaxPooling2D(),\n",
    "    tf.keras.layers.Flatten(),\n",
    "    tf.keras.layers.Dense(24, activation=\"softmax\")\n",
    "])\n",
    "'''"
   ]
  },
  {
   "cell_type": "code",
   "execution_count": 48,
   "metadata": {
    "colab": {
     "base_uri": "https://localhost:8080/"
    },
    "executionInfo": {
     "elapsed": 6502,
     "status": "ok",
     "timestamp": 1617810483614,
     "user": {
      "displayName": "Charles Tanguy",
      "photoUrl": "",
      "userId": "11930294859591867631"
     },
     "user_tz": -120
    },
    "id": "8uXDKmkInqMz",
    "outputId": "97243ea3-adc4-4bc5-c987-b6c0d8b58629"
   },
   "outputs": [
    {
     "data": {
      "text/html": [
       "<pre style=\"white-space:pre;overflow-x:auto;line-height:normal;font-family:Menlo,'DejaVu Sans Mono',consolas,'Courier New',monospace\"><span style=\"font-weight: bold\">Model: \"sequential_13\"</span>\n",
       "</pre>\n"
      ],
      "text/plain": [
       "\u001b[1mModel: \"sequential_13\"\u001b[0m\n"
      ]
     },
     "metadata": {},
     "output_type": "display_data"
    },
    {
     "data": {
      "text/html": [
       "<pre style=\"white-space:pre;overflow-x:auto;line-height:normal;font-family:Menlo,'DejaVu Sans Mono',consolas,'Courier New',monospace\">┏━━━━━━━━━━━━━━━━━━━━━━━━━━━━━━━━━┳━━━━━━━━━━━━━━━━━━━━━━━━┳━━━━━━━━━━━━━━━┓\n",
       "┃<span style=\"font-weight: bold\"> Layer (type)                    </span>┃<span style=\"font-weight: bold\"> Output Shape           </span>┃<span style=\"font-weight: bold\">       Param # </span>┃\n",
       "┡━━━━━━━━━━━━━━━━━━━━━━━━━━━━━━━━━╇━━━━━━━━━━━━━━━━━━━━━━━━╇━━━━━━━━━━━━━━━┩\n",
       "│ inception_v3 (<span style=\"color: #0087ff; text-decoration-color: #0087ff\">Functional</span>)       │ ?                      │    <span style=\"color: #00af00; text-decoration-color: #00af00\">21,802,784</span> │\n",
       "├─────────────────────────────────┼────────────────────────┼───────────────┤\n",
       "│ global_average_pooling2d_7      │ ?                      │   <span style=\"color: #00af00; text-decoration-color: #00af00\">0</span> (unbuilt) │\n",
       "│ (<span style=\"color: #0087ff; text-decoration-color: #0087ff\">GlobalAveragePooling2D</span>)        │                        │               │\n",
       "├─────────────────────────────────┼────────────────────────┼───────────────┤\n",
       "│ dense_15 (<span style=\"color: #0087ff; text-decoration-color: #0087ff\">Dense</span>)                │ ?                      │   <span style=\"color: #00af00; text-decoration-color: #00af00\">0</span> (unbuilt) │\n",
       "├─────────────────────────────────┼────────────────────────┼───────────────┤\n",
       "│ dropout_9 (<span style=\"color: #0087ff; text-decoration-color: #0087ff\">Dropout</span>)             │ ?                      │   <span style=\"color: #00af00; text-decoration-color: #00af00\">0</span> (unbuilt) │\n",
       "├─────────────────────────────────┼────────────────────────┼───────────────┤\n",
       "│ dense_16 (<span style=\"color: #0087ff; text-decoration-color: #0087ff\">Dense</span>)                │ ?                      │   <span style=\"color: #00af00; text-decoration-color: #00af00\">0</span> (unbuilt) │\n",
       "├─────────────────────────────────┼────────────────────────┼───────────────┤\n",
       "│ dropout_10 (<span style=\"color: #0087ff; text-decoration-color: #0087ff\">Dropout</span>)            │ ?                      │   <span style=\"color: #00af00; text-decoration-color: #00af00\">0</span> (unbuilt) │\n",
       "├─────────────────────────────────┼────────────────────────┼───────────────┤\n",
       "│ dense_17 (<span style=\"color: #0087ff; text-decoration-color: #0087ff\">Dense</span>)                │ ?                      │   <span style=\"color: #00af00; text-decoration-color: #00af00\">0</span> (unbuilt) │\n",
       "└─────────────────────────────────┴────────────────────────┴───────────────┘\n",
       "</pre>\n"
      ],
      "text/plain": [
       "┏━━━━━━━━━━━━━━━━━━━━━━━━━━━━━━━━━┳━━━━━━━━━━━━━━━━━━━━━━━━┳━━━━━━━━━━━━━━━┓\n",
       "┃\u001b[1m \u001b[0m\u001b[1mLayer (type)                   \u001b[0m\u001b[1m \u001b[0m┃\u001b[1m \u001b[0m\u001b[1mOutput Shape          \u001b[0m\u001b[1m \u001b[0m┃\u001b[1m \u001b[0m\u001b[1m      Param #\u001b[0m\u001b[1m \u001b[0m┃\n",
       "┡━━━━━━━━━━━━━━━━━━━━━━━━━━━━━━━━━╇━━━━━━━━━━━━━━━━━━━━━━━━╇━━━━━━━━━━━━━━━┩\n",
       "│ inception_v3 (\u001b[38;5;33mFunctional\u001b[0m)       │ ?                      │    \u001b[38;5;34m21,802,784\u001b[0m │\n",
       "├─────────────────────────────────┼────────────────────────┼───────────────┤\n",
       "│ global_average_pooling2d_7      │ ?                      │   \u001b[38;5;34m0\u001b[0m (unbuilt) │\n",
       "│ (\u001b[38;5;33mGlobalAveragePooling2D\u001b[0m)        │                        │               │\n",
       "├─────────────────────────────────┼────────────────────────┼───────────────┤\n",
       "│ dense_15 (\u001b[38;5;33mDense\u001b[0m)                │ ?                      │   \u001b[38;5;34m0\u001b[0m (unbuilt) │\n",
       "├─────────────────────────────────┼────────────────────────┼───────────────┤\n",
       "│ dropout_9 (\u001b[38;5;33mDropout\u001b[0m)             │ ?                      │   \u001b[38;5;34m0\u001b[0m (unbuilt) │\n",
       "├─────────────────────────────────┼────────────────────────┼───────────────┤\n",
       "│ dense_16 (\u001b[38;5;33mDense\u001b[0m)                │ ?                      │   \u001b[38;5;34m0\u001b[0m (unbuilt) │\n",
       "├─────────────────────────────────┼────────────────────────┼───────────────┤\n",
       "│ dropout_10 (\u001b[38;5;33mDropout\u001b[0m)            │ ?                      │   \u001b[38;5;34m0\u001b[0m (unbuilt) │\n",
       "├─────────────────────────────────┼────────────────────────┼───────────────┤\n",
       "│ dense_17 (\u001b[38;5;33mDense\u001b[0m)                │ ?                      │   \u001b[38;5;34m0\u001b[0m (unbuilt) │\n",
       "└─────────────────────────────────┴────────────────────────┴───────────────┘\n"
      ]
     },
     "metadata": {},
     "output_type": "display_data"
    },
    {
     "data": {
      "text/html": [
       "<pre style=\"white-space:pre;overflow-x:auto;line-height:normal;font-family:Menlo,'DejaVu Sans Mono',consolas,'Courier New',monospace\"><span style=\"font-weight: bold\"> Total params: </span><span style=\"color: #00af00; text-decoration-color: #00af00\">21,802,784</span> (83.17 MB)\n",
       "</pre>\n"
      ],
      "text/plain": [
       "\u001b[1m Total params: \u001b[0m\u001b[38;5;34m21,802,784\u001b[0m (83.17 MB)\n"
      ]
     },
     "metadata": {},
     "output_type": "display_data"
    },
    {
     "data": {
      "text/html": [
       "<pre style=\"white-space:pre;overflow-x:auto;line-height:normal;font-family:Menlo,'DejaVu Sans Mono',consolas,'Courier New',monospace\"><span style=\"font-weight: bold\"> Trainable params: </span><span style=\"color: #00af00; text-decoration-color: #00af00\">0</span> (0.00 B)\n",
       "</pre>\n"
      ],
      "text/plain": [
       "\u001b[1m Trainable params: \u001b[0m\u001b[38;5;34m0\u001b[0m (0.00 B)\n"
      ]
     },
     "metadata": {},
     "output_type": "display_data"
    },
    {
     "data": {
      "text/html": [
       "<pre style=\"white-space:pre;overflow-x:auto;line-height:normal;font-family:Menlo,'DejaVu Sans Mono',consolas,'Courier New',monospace\"><span style=\"font-weight: bold\"> Non-trainable params: </span><span style=\"color: #00af00; text-decoration-color: #00af00\">21,802,784</span> (83.17 MB)\n",
       "</pre>\n"
      ],
      "text/plain": [
       "\u001b[1m Non-trainable params: \u001b[0m\u001b[38;5;34m21,802,784\u001b[0m (83.17 MB)\n"
      ]
     },
     "metadata": {},
     "output_type": "display_data"
    }
   ],
   "source": [
    "model.summary()"
   ]
  },
  {
   "cell_type": "markdown",
   "metadata": {
    "id": "uLCLa1t2j_UV"
   },
   "source": [
    "4. Compile your model with [`compile`](https://www.tensorflow.org/api_docs/python/tf/keras/Model#compile) using Adam with a learning rate of `0.001` and the appropriate loss and metrics. "
   ]
  },
  {
   "cell_type": "code",
   "execution_count": 49,
   "metadata": {
    "executionInfo": {
     "elapsed": 737,
     "status": "ok",
     "timestamp": 1617810547219,
     "user": {
      "displayName": "Charles Tanguy",
      "photoUrl": "",
      "userId": "11930294859591867631"
     },
     "user_tz": -120
    },
    "id": "Wj_KljwLVX6V"
   },
   "outputs": [],
   "source": [
    "model.compile(optimizer=tf.keras.optimizers.Adam(learning_rate = 0.001),\n",
    "              loss = tf.keras.losses.CategoricalCrossentropy(),\n",
    "              metrics = [tf.keras.metrics.CategoricalAccuracy()])\n",
    "              "
   ]
  },
  {
   "cell_type": "markdown",
   "metadata": {
    "id": "aBcqCL3Nk-aD"
   },
   "source": [
    "5. Train your model and monitor the overfitting using the validation data. Use 20 steps per epochs and 50 epochs in order to monitor the process precisely."
   ]
  },
  {
   "cell_type": "code",
   "execution_count": 57,
   "metadata": {},
   "outputs": [
    {
     "data": {
      "text/plain": [
       "[]"
      ]
     },
     "execution_count": 57,
     "metadata": {},
     "output_type": "execute_result"
    }
   ],
   "source": [
    "tf.config.list_physical_devices('GPU')"
   ]
  },
  {
   "cell_type": "code",
   "execution_count": 55,
   "metadata": {},
   "outputs": [
    {
     "data": {
      "text/plain": [
       "<function tensorflow.python.eager.polymorphic_function.polymorphic_function.function.<locals>.decorated(inner_function)>"
      ]
     },
     "execution_count": 55,
     "metadata": {},
     "output_type": "execute_result"
    }
   ],
   "source": [
    "tf.function(\n",
    "    func=None,\n",
    "    input_signature=None,\n",
    "    autograph=True,\n",
    "    jit_compile=None,\n",
    "    reduce_retracing=False,\n",
    "    experimental_implements=None,\n",
    "    experimental_autograph_options=None,\n",
    "    experimental_attributes=None,\n",
    "    experimental_relax_shapes=None,\n",
    "    experimental_compile=None,\n",
    "    experimental_follow_type_hints=None\n",
    ") #> tf.types.experimental.PolymorphicFunction"
   ]
  },
  {
   "cell_type": "code",
   "execution_count": 56,
   "metadata": {
    "colab": {
     "base_uri": "https://localhost:8080/"
    },
    "executionInfo": {
     "elapsed": 1142617,
     "status": "ok",
     "timestamp": 1617811692118,
     "user": {
      "displayName": "Charles Tanguy",
      "photoUrl": "",
      "userId": "11930294859591867631"
     },
     "user_tz": -120
    },
    "id": "Pb4XUVg5VZjJ",
    "outputId": "902e32cb-d385-496c-bd4c-497081870948"
   },
   "outputs": [
    {
     "name": "stdout",
     "output_type": "stream",
     "text": [
      "Epoch 1/50\n",
      "\u001b[1m20/20\u001b[0m \u001b[32m━━━━━━━━━━━━━━━━━━━━\u001b[0m\u001b[37m\u001b[0m \u001b[1m0s\u001b[0m 4s/step - categorical_accuracy: 0.0862 - loss: 3.3144"
     ]
    },
    {
     "ename": "ValueError",
     "evalue": "Must provide at least one structure",
     "output_type": "error",
     "traceback": [
      "\u001b[0;31m---------------------------------------------------------------------------\u001b[0m",
      "\u001b[0;31mValueError\u001b[0m                                Traceback (most recent call last)",
      "Cell \u001b[0;32mIn[56], line 1\u001b[0m\n\u001b[0;32m----> 1\u001b[0m \u001b[43mmodel\u001b[49m\u001b[38;5;241;43m.\u001b[39;49m\u001b[43mfit\u001b[49m\u001b[43m(\u001b[49m\u001b[43mimg_generator_flow_train\u001b[49m\u001b[43m,\u001b[49m\u001b[43m \u001b[49m\u001b[43mvalidation_data\u001b[49m\u001b[38;5;241;43m=\u001b[39;49m\u001b[43mimg_generator_flow_valid\u001b[49m\u001b[43m,\u001b[49m\u001b[43m \u001b[49m\u001b[43msteps_per_epoch\u001b[49m\u001b[38;5;241;43m=\u001b[39;49m\u001b[38;5;241;43m20\u001b[39;49m\u001b[43m,\u001b[49m\u001b[43m \u001b[49m\u001b[43mepochs\u001b[49m\u001b[38;5;241;43m=\u001b[39;49m\u001b[38;5;241;43m50\u001b[39;49m\u001b[43m)\u001b[49m\n",
      "File \u001b[0;32m/usr/local/lib/python3.11/dist-packages/keras/src/utils/traceback_utils.py:122\u001b[0m, in \u001b[0;36mfilter_traceback.<locals>.error_handler\u001b[0;34m(*args, **kwargs)\u001b[0m\n\u001b[1;32m    119\u001b[0m     filtered_tb \u001b[38;5;241m=\u001b[39m _process_traceback_frames(e\u001b[38;5;241m.\u001b[39m__traceback__)\n\u001b[1;32m    120\u001b[0m     \u001b[38;5;66;03m# To get the full stack trace, call:\u001b[39;00m\n\u001b[1;32m    121\u001b[0m     \u001b[38;5;66;03m# `keras.config.disable_traceback_filtering()`\u001b[39;00m\n\u001b[0;32m--> 122\u001b[0m     \u001b[38;5;28;01mraise\u001b[39;00m e\u001b[38;5;241m.\u001b[39mwith_traceback(filtered_tb) \u001b[38;5;28;01mfrom\u001b[39;00m \u001b[38;5;28;01mNone\u001b[39;00m\n\u001b[1;32m    123\u001b[0m \u001b[38;5;28;01mfinally\u001b[39;00m:\n\u001b[1;32m    124\u001b[0m     \u001b[38;5;28;01mdel\u001b[39;00m filtered_tb\n",
      "File \u001b[0;32m/usr/local/lib/python3.11/dist-packages/keras/src/tree/optree_impl.py:76\u001b[0m, in \u001b[0;36mmap_structure\u001b[0;34m(func, *structures)\u001b[0m\n\u001b[1;32m     74\u001b[0m     \u001b[38;5;28;01mraise\u001b[39;00m \u001b[38;5;167;01mTypeError\u001b[39;00m(\u001b[38;5;124mf\u001b[39m\u001b[38;5;124m\"\u001b[39m\u001b[38;5;124m`func` must be callable. Received: func=\u001b[39m\u001b[38;5;132;01m{\u001b[39;00mfunc\u001b[38;5;132;01m}\u001b[39;00m\u001b[38;5;124m\"\u001b[39m)\n\u001b[1;32m     75\u001b[0m \u001b[38;5;28;01mif\u001b[39;00m \u001b[38;5;129;01mnot\u001b[39;00m structures:\n\u001b[0;32m---> 76\u001b[0m     \u001b[38;5;28;01mraise\u001b[39;00m \u001b[38;5;167;01mValueError\u001b[39;00m(\u001b[38;5;124m\"\u001b[39m\u001b[38;5;124mMust provide at least one structure\u001b[39m\u001b[38;5;124m\"\u001b[39m)\n\u001b[1;32m     77\u001b[0m \u001b[38;5;28;01mfor\u001b[39;00m other \u001b[38;5;129;01min\u001b[39;00m structures[\u001b[38;5;241m1\u001b[39m:]:\n\u001b[1;32m     78\u001b[0m     assert_same_structure(structures[\u001b[38;5;241m0\u001b[39m], other, check_types\u001b[38;5;241m=\u001b[39m\u001b[38;5;28;01mFalse\u001b[39;00m)\n",
      "\u001b[0;31mValueError\u001b[0m: Must provide at least one structure"
     ]
    }
   ],
   "source": [
    "model.fit(img_generator_flow_train, validation_data=img_generator_flow_valid, steps_per_epoch=20, epochs=50)"
   ]
  },
  {
   "cell_type": "code",
   "execution_count": 24,
   "metadata": {
    "executionInfo": {
     "elapsed": 1192,
     "status": "ok",
     "timestamp": 1617812773317,
     "user": {
      "displayName": "Charles Tanguy",
      "photoUrl": "",
      "userId": "11930294859591867631"
     },
     "user_tz": -120
    },
    "id": "kWjGOyar20F5"
   },
   "outputs": [],
   "source": [
    "#model.save(\"/tf/notebooks/content/skinInceptionV3-JedhaModel.keras\")"
   ]
  },
  {
   "cell_type": "code",
   "execution_count": 25,
   "metadata": {
    "executionInfo": {
     "elapsed": 1262,
     "status": "ok",
     "timestamp": 1617812797621,
     "user": {
      "displayName": "Charles Tanguy",
      "photoUrl": "",
      "userId": "11930294859591867631"
     },
     "user_tz": -120
    },
    "id": "Mo1wQ_qD21Ln"
   },
   "outputs": [],
   "source": [
    "i'''\n",
    "mport json\n",
    "# Get the dictionary containing each metric and the loss for each epoch\n",
    "history_dict = model.history.history\n",
    "# Save it under the form of a json file\n",
    "json.dump(history_dict, open(\"/tf/notebooks/content/skinInceptionV3-JedhaModelHistory.json\", 'w'))\n",
    "'''"
   ]
  },
  {
   "cell_type": "code",
   "execution_count": null,
   "metadata": {
    "id": "IwX5pwWn3K1c"
   },
   "outputs": [],
   "source": [
    "#model_loaded = tf.keras.models.load_model(\"/tf/notebooks/content/caltechTransferLearningModel.keras\")"
   ]
  },
  {
   "cell_type": "markdown",
   "metadata": {
    "id": "ulgOch0WlLeh"
   },
   "source": [
    "6. Visualize your `accuracy` on your `train` and on your `test` thanks to the attribute `history` of your model"
   ]
  },
  {
   "cell_type": "code",
   "execution_count": 26,
   "metadata": {
    "colab": {
     "base_uri": "https://localhost:8080/",
     "height": 265
    },
    "executionInfo": {
     "elapsed": 662,
     "status": "ok",
     "timestamp": 1617813133811,
     "user": {
      "displayName": "Charles Tanguy",
      "photoUrl": "",
      "userId": "11930294859591867631"
     },
     "user_tz": -120
    },
    "id": "Fr_xwcorg4qe",
    "outputId": "48961f24-a93e-4361-d05f-e757c8ebb092"
   },
   "outputs": [
    {
     "data": {
      "image/png": "[encoded data removed]",
      "text/plain": [
       "<Figure size 640x480 with 1 Axes>"
      ]
     },
     "metadata": {},
     "output_type": "display_data"
    }
   ],
   "source": [
    "'''\n",
    "# Visualise train / Valid Accuracy\n",
    "plt.plot(model.history.history[\"categorical_accuracy\"], c=\"r\", label=\"train_accuracy\")\n",
    "plt.plot(model.history.history[\"val_categorical_accuracy\"], c=\"b\", label=\"test_accuracy\")\n",
    "plt.legend(loc=\"upper left\")\n",
    "plt.show()\n",
    "'''"
   ]
  },
  {
   "cell_type": "markdown",
   "metadata": {
    "id": "XdAeL5AvlRNU"
   },
   "source": [
    "7. Do the same for your `loss`"
   ]
  },
  {
   "cell_type": "code",
   "execution_count": 27,
   "metadata": {
    "colab": {
     "base_uri": "https://localhost:8080/",
     "height": 265
    },
    "executionInfo": {
     "elapsed": 1134,
     "status": "ok",
     "timestamp": 1617813136938,
     "user": {
      "displayName": "Charles Tanguy",
      "photoUrl": "",
      "userId": "11930294859591867631"
     },
     "user_tz": -120
    },
    "id": "HOsWwcEiX2gk",
    "outputId": "0b086eed-f10c-43a4-cf21-ce58820a8a21"
   },
   "outputs": [
    {
     "data": {
      "image/png": "[encoded data removed]",
      "text/plain": [
       "<Figure size 640x480 with 1 Axes>"
      ]
     },
     "metadata": {},
     "output_type": "display_data"
    }
   ],
   "source": [
    "'''\n",
    "# Visualise train / Valid Loss\n",
    "plt.plot(model.history.history[\"loss\"], c=\"r\", label=\"train_loss\")\n",
    "plt.plot(model.history.history[\"val_loss\"], c=\"b\", label=\"test_loss\")\n",
    "plt.legend(loc=\"upper left\")\n",
    "plt.show()\n",
    "'''"
   ]
  },
  {
   "cell_type": "markdown",
   "metadata": {
    "id": "iNclTXiYB4qE"
   },
   "source": [
    "# Fine-Tuning\n",
    "1. Count the numbers of layers of your pre-trained model"
   ]
  },
  {
   "cell_type": "code",
   "execution_count": 9,
   "metadata": {
    "colab": {
     "base_uri": "https://localhost:8080/"
    },
    "executionInfo": {
     "elapsed": 617,
     "status": "ok",
     "timestamp": 1617813140447,
     "user": {
      "displayName": "Charles Tanguy",
      "photoUrl": "",
      "userId": "11930294859591867631"
     },
     "user_tz": -120
    },
    "id": "FfgpHvpFZBPS",
    "outputId": "3252e47f-0788-4f47-f108-f6a0c96552f2"
   },
   "outputs": [
    {
     "data": {
      "text/plain": [
       "311"
      ]
     },
     "execution_count": 9,
     "metadata": {},
     "output_type": "execute_result"
    }
   ],
   "source": [
    "len(base_model.layers)"
   ]
  },
  {
   "cell_type": "markdown",
   "metadata": {
    "id": "tzn-r4cUlaSk"
   },
   "source": [
    "2. Let about 10% of the layers towards the top in trainable status and freeze the rest. You will have to load the pre-trained model again."
   ]
  },
  {
   "cell_type": "code",
   "execution_count": 58,
   "metadata": {
    "colab": {
     "base_uri": "https://localhost:8080/"
    },
    "executionInfo": {
     "elapsed": 2976,
     "status": "ok",
     "timestamp": 1618246378771,
     "user": {
      "displayName": "Charles Tanguy",
      "photoUrl": "",
      "userId": "11930294859591867631"
     },
     "user_tz": -120
    },
    "id": "3NNgBr0D9_Xc",
    "outputId": "a7725357-d581-4d9d-f28b-3fb5b213a6ee"
   },
   "outputs": [],
   "source": [
    "base_model = tf.keras.applications.InceptionV3(input_shape=(image_height,image_height,3),\n",
    "                                               include_top=False,\n",
    "                                               weights = \"imagenet\"\n",
    "                                               )"
   ]
  },
  {
   "cell_type": "code",
   "execution_count": 59,
   "metadata": {},
   "outputs": [],
   "source": [
    "base_model.save(\"/tf/notebooks/content/skinInceptionV3_BaseModel_512-512.keras\")"
   ]
  },
  {
   "cell_type": "code",
   "execution_count": 79,
   "metadata": {
    "executionInfo": {
     "elapsed": 1978,
     "status": "ok",
     "timestamp": 1618246378772,
     "user": {
      "displayName": "Charles Tanguy",
      "photoUrl": "",
      "userId": "11930294859591867631"
     },
     "user_tz": -120
    },
    "id": "_gcWPeTYZRxS"
   },
   "outputs": [],
   "source": [
    "base_model.trainable = True\n",
    "fine_tune_at = len(base_model.layers) - 31\n",
    "for layer in base_model.layers[:fine_tune_at]:\n",
    "  layer.trainable = False"
   ]
  },
  {
   "cell_type": "code",
   "execution_count": 69,
   "metadata": {},
   "outputs": [],
   "source": [
    "model.save(\"/tf/notebooks/content/skinInceptionV3_BaseModelFreezed_40.keras\")"
   ]
  },
  {
   "cell_type": "markdown",
   "metadata": {
    "id": "QcmDircWCeVq"
   },
   "source": [
    "3. Add some prediction layers to adapt the model to the problem at hand."
   ]
  },
  {
   "cell_type": "code",
   "execution_count": 80,
   "metadata": {
    "executionInfo": {
     "elapsed": 1361,
     "status": "ok",
     "timestamp": 1618246380234,
     "user": {
      "displayName": "Charles Tanguy",
      "photoUrl": "",
      "userId": "11930294859591867631"
     },
     "user_tz": -120
    },
    "id": "TJs1-b4C4GEd"
   },
   "outputs": [],
   "source": [
    "model = tf.keras.Sequential([\n",
    "    base_model,\n",
    "    tf.keras.layers.MaxPooling2D(),\n",
    "    tf.keras.layers.Flatten(),\n",
    "    tf.keras.layers.Dense(24, activation=\"softmax\")\n",
    "])"
   ]
  },
  {
   "cell_type": "code",
   "execution_count": 81,
   "metadata": {
    "colab": {
     "base_uri": "https://localhost:8080/"
    },
    "executionInfo": {
     "elapsed": 584,
     "status": "ok",
     "timestamp": 1618246381155,
     "user": {
      "displayName": "Charles Tanguy",
      "photoUrl": "",
      "userId": "11930294859591867631"
     },
     "user_tz": -120
    },
    "id": "dk8BsK2ZC9Pv",
    "outputId": "f7ae4a9e-7f3e-4922-930a-6fdba856944d"
   },
   "outputs": [
    {
     "data": {
      "text/html": [
       "<pre style=\"white-space:pre;overflow-x:auto;line-height:normal;font-family:Menlo,'DejaVu Sans Mono',consolas,'Courier New',monospace\"><span style=\"font-weight: bold\">Model: \"sequential_19\"</span>\n",
       "</pre>\n"
      ],
      "text/plain": [
       "\u001b[1mModel: \"sequential_19\"\u001b[0m\n"
      ]
     },
     "metadata": {},
     "output_type": "display_data"
    },
    {
     "data": {
      "text/html": [
       "<pre style=\"white-space:pre;overflow-x:auto;line-height:normal;font-family:Menlo,'DejaVu Sans Mono',consolas,'Courier New',monospace\">┏━━━━━━━━━━━━━━━━━━━━━━━━━━━━━━━━━┳━━━━━━━━━━━━━━━━━━━━━━━━┳━━━━━━━━━━━━━━━┓\n",
       "┃<span style=\"font-weight: bold\"> Layer (type)                    </span>┃<span style=\"font-weight: bold\"> Output Shape           </span>┃<span style=\"font-weight: bold\">       Param # </span>┃\n",
       "┡━━━━━━━━━━━━━━━━━━━━━━━━━━━━━━━━━╇━━━━━━━━━━━━━━━━━━━━━━━━╇━━━━━━━━━━━━━━━┩\n",
       "│ inception_v3 (<span style=\"color: #0087ff; text-decoration-color: #0087ff\">Functional</span>)       │ (<span style=\"color: #00d7ff; text-decoration-color: #00d7ff\">None</span>, <span style=\"color: #00af00; text-decoration-color: #00af00\">14</span>, <span style=\"color: #00af00; text-decoration-color: #00af00\">14</span>, <span style=\"color: #00af00; text-decoration-color: #00af00\">2048</span>)   │    <span style=\"color: #00af00; text-decoration-color: #00af00\">21,802,784</span> │\n",
       "├─────────────────────────────────┼────────────────────────┼───────────────┤\n",
       "│ max_pooling2d_31 (<span style=\"color: #0087ff; text-decoration-color: #0087ff\">MaxPooling2D</span>) │ ?                      │   <span style=\"color: #00af00; text-decoration-color: #00af00\">0</span> (unbuilt) │\n",
       "├─────────────────────────────────┼────────────────────────┼───────────────┤\n",
       "│ flatten_3 (<span style=\"color: #0087ff; text-decoration-color: #0087ff\">Flatten</span>)             │ ?                      │   <span style=\"color: #00af00; text-decoration-color: #00af00\">0</span> (unbuilt) │\n",
       "├─────────────────────────────────┼────────────────────────┼───────────────┤\n",
       "│ dense_21 (<span style=\"color: #0087ff; text-decoration-color: #0087ff\">Dense</span>)                │ ?                      │   <span style=\"color: #00af00; text-decoration-color: #00af00\">0</span> (unbuilt) │\n",
       "└─────────────────────────────────┴────────────────────────┴───────────────┘\n",
       "</pre>\n"
      ],
      "text/plain": [
       "┏━━━━━━━━━━━━━━━━━━━━━━━━━━━━━━━━━┳━━━━━━━━━━━━━━━━━━━━━━━━┳━━━━━━━━━━━━━━━┓\n",
       "┃\u001b[1m \u001b[0m\u001b[1mLayer (type)                   \u001b[0m\u001b[1m \u001b[0m┃\u001b[1m \u001b[0m\u001b[1mOutput Shape          \u001b[0m\u001b[1m \u001b[0m┃\u001b[1m \u001b[0m\u001b[1m      Param #\u001b[0m\u001b[1m \u001b[0m┃\n",
       "┡━━━━━━━━━━━━━━━━━━━━━━━━━━━━━━━━━╇━━━━━━━━━━━━━━━━━━━━━━━━╇━━━━━━━━━━━━━━━┩\n",
       "│ inception_v3 (\u001b[38;5;33mFunctional\u001b[0m)       │ (\u001b[38;5;45mNone\u001b[0m, \u001b[38;5;34m14\u001b[0m, \u001b[38;5;34m14\u001b[0m, \u001b[38;5;34m2048\u001b[0m)   │    \u001b[38;5;34m21,802,784\u001b[0m │\n",
       "├─────────────────────────────────┼────────────────────────┼───────────────┤\n",
       "│ max_pooling2d_31 (\u001b[38;5;33mMaxPooling2D\u001b[0m) │ ?                      │   \u001b[38;5;34m0\u001b[0m (unbuilt) │\n",
       "├─────────────────────────────────┼────────────────────────┼───────────────┤\n",
       "│ flatten_3 (\u001b[38;5;33mFlatten\u001b[0m)             │ ?                      │   \u001b[38;5;34m0\u001b[0m (unbuilt) │\n",
       "├─────────────────────────────────┼────────────────────────┼───────────────┤\n",
       "│ dense_21 (\u001b[38;5;33mDense\u001b[0m)                │ ?                      │   \u001b[38;5;34m0\u001b[0m (unbuilt) │\n",
       "└─────────────────────────────────┴────────────────────────┴───────────────┘\n"
      ]
     },
     "metadata": {},
     "output_type": "display_data"
    },
    {
     "data": {
      "text/html": [
       "<pre style=\"white-space:pre;overflow-x:auto;line-height:normal;font-family:Menlo,'DejaVu Sans Mono',consolas,'Courier New',monospace\"><span style=\"font-weight: bold\"> Total params: </span><span style=\"color: #00af00; text-decoration-color: #00af00\">21,802,784</span> (83.17 MB)\n",
       "</pre>\n"
      ],
      "text/plain": [
       "\u001b[1m Total params: \u001b[0m\u001b[38;5;34m21,802,784\u001b[0m (83.17 MB)\n"
      ]
     },
     "metadata": {},
     "output_type": "display_data"
    },
    {
     "data": {
      "text/html": [
       "<pre style=\"white-space:pre;overflow-x:auto;line-height:normal;font-family:Menlo,'DejaVu Sans Mono',consolas,'Courier New',monospace\"><span style=\"font-weight: bold\"> Trainable params: </span><span style=\"color: #00af00; text-decoration-color: #00af00\">6,073,536</span> (23.17 MB)\n",
       "</pre>\n"
      ],
      "text/plain": [
       "\u001b[1m Trainable params: \u001b[0m\u001b[38;5;34m6,073,536\u001b[0m (23.17 MB)\n"
      ]
     },
     "metadata": {},
     "output_type": "display_data"
    },
    {
     "data": {
      "text/html": [
       "<pre style=\"white-space:pre;overflow-x:auto;line-height:normal;font-family:Menlo,'DejaVu Sans Mono',consolas,'Courier New',monospace\"><span style=\"font-weight: bold\"> Non-trainable params: </span><span style=\"color: #00af00; text-decoration-color: #00af00\">15,729,248</span> (60.00 MB)\n",
       "</pre>\n"
      ],
      "text/plain": [
       "\u001b[1m Non-trainable params: \u001b[0m\u001b[38;5;34m15,729,248\u001b[0m (60.00 MB)\n"
      ]
     },
     "metadata": {},
     "output_type": "display_data"
    }
   ],
   "source": [
    "model.summary()"
   ]
  },
  {
   "cell_type": "markdown",
   "metadata": {
    "id": "JX5VCkB_lfCC"
   },
   "source": [
    "4. Compile the model"
   ]
  },
  {
   "cell_type": "code",
   "execution_count": 82,
   "metadata": {
    "executionInfo": {
     "elapsed": 606,
     "status": "ok",
     "timestamp": 1617813154404,
     "user": {
      "displayName": "Charles Tanguy",
      "photoUrl": "",
      "userId": "11930294859591867631"
     },
     "user_tz": -120
    },
    "id": "coO6AtHHZvAF"
   },
   "outputs": [],
   "source": [
    "model.compile(optimizer=tf.keras.optimizers.Adam(learning_rate = 0.001),\n",
    "              loss = tf.keras.losses.CategoricalCrossentropy(),\n",
    "              metrics = [tf.keras.metrics.CategoricalAccuracy()])"
   ]
  },
  {
   "cell_type": "markdown",
   "metadata": {
    "id": "MSO0szfDlg4e"
   },
   "source": [
    "5. Train the model using 20 steps per epochs and 50 epochs."
   ]
  },
  {
   "cell_type": "code",
   "execution_count": 40,
   "metadata": {
    "colab": {
     "base_uri": "https://localhost:8080/"
    },
    "executionInfo": {
     "elapsed": 1110983,
     "status": "ok",
     "timestamp": 1617814267288,
     "user": {
      "displayName": "Charles Tanguy",
      "photoUrl": "",
      "userId": "11930294859591867631"
     },
     "user_tz": -120
    },
    "id": "LU5JxzrNZxXd",
    "outputId": "b56b450b-3187-45ca-f042-0e5f019b001a"
   },
   "outputs": [
    {
     "name": "stdout",
     "output_type": "stream",
     "text": [
      "Epoch 1/10\n",
      "\u001b[1m346/346\u001b[0m \u001b[32m━━━━━━━━━━━━━━━━━━━━\u001b[0m\u001b[37m\u001b[0m \u001b[1m339s\u001b[0m 956ms/step - categorical_accuracy: 0.2497 - loss: 3.2307 - val_categorical_accuracy: 0.2403 - val_loss: 2.8788\n",
      "Epoch 2/10\n"
     ]
    },
    {
     "name": "stderr",
     "output_type": "stream",
     "text": [
      "2024-06-09 05:58:16.860801: I tensorflow/core/framework/local_rendezvous.cc:404] Local rendezvous is aborting with status: OUT_OF_RANGE: End of sequence\n",
      "\t [[{{node IteratorGetNext}}]]\n"
     ]
    },
    {
     "ename": "AttributeError",
     "evalue": "'NoneType' object has no attribute 'items'",
     "output_type": "error",
     "traceback": [
      "\u001b[0;31m---------------------------------------------------------------------------\u001b[0m",
      "\u001b[0;31mAttributeError\u001b[0m                            Traceback (most recent call last)",
      "Cell \u001b[0;32mIn[40], line 1\u001b[0m\n\u001b[0;32m----> 1\u001b[0m \u001b[43mmodel\u001b[49m\u001b[38;5;241;43m.\u001b[39;49m\u001b[43mfit\u001b[49m\u001b[43m(\u001b[49m\u001b[43mimg_generator_flow_train\u001b[49m\u001b[43m,\u001b[49m\n\u001b[1;32m      2\u001b[0m \u001b[43m          \u001b[49m\u001b[43msteps_per_epoch\u001b[49m\u001b[43m \u001b[49m\u001b[38;5;241;43m=\u001b[39;49m\u001b[43m \u001b[49m\u001b[38;5;241;43m346\u001b[39;49m\u001b[43m,\u001b[49m\n\u001b[1;32m      3\u001b[0m \u001b[43m          \u001b[49m\u001b[43mvalidation_data\u001b[49m\u001b[43m \u001b[49m\u001b[38;5;241;43m=\u001b[39;49m\u001b[43m \u001b[49m\u001b[43mimg_generator_flow_valid\u001b[49m\u001b[43m,\u001b[49m\n\u001b[1;32m      4\u001b[0m \u001b[43m          \u001b[49m\u001b[43mvalidation_steps\u001b[49m\u001b[43m \u001b[49m\u001b[38;5;241;43m=\u001b[39;49m\u001b[43m \u001b[49m\u001b[38;5;241;43m148\u001b[39;49m\u001b[43m,\u001b[49m\n\u001b[1;32m      5\u001b[0m \u001b[43m          \u001b[49m\u001b[43mepochs\u001b[49m\u001b[43m \u001b[49m\u001b[38;5;241;43m=\u001b[39;49m\u001b[43m \u001b[49m\u001b[38;5;241;43m10\u001b[39;49m\u001b[43m)\u001b[49m\n",
      "File \u001b[0;32m/usr/local/lib/python3.11/dist-packages/keras/src/utils/traceback_utils.py:122\u001b[0m, in \u001b[0;36mfilter_traceback.<locals>.error_handler\u001b[0;34m(*args, **kwargs)\u001b[0m\n\u001b[1;32m    119\u001b[0m     filtered_tb \u001b[38;5;241m=\u001b[39m _process_traceback_frames(e\u001b[38;5;241m.\u001b[39m__traceback__)\n\u001b[1;32m    120\u001b[0m     \u001b[38;5;66;03m# To get the full stack trace, call:\u001b[39;00m\n\u001b[1;32m    121\u001b[0m     \u001b[38;5;66;03m# `keras.config.disable_traceback_filtering()`\u001b[39;00m\n\u001b[0;32m--> 122\u001b[0m     \u001b[38;5;28;01mraise\u001b[39;00m e\u001b[38;5;241m.\u001b[39mwith_traceback(filtered_tb) \u001b[38;5;28;01mfrom\u001b[39;00m \u001b[38;5;28;01mNone\u001b[39;00m\n\u001b[1;32m    123\u001b[0m \u001b[38;5;28;01mfinally\u001b[39;00m:\n\u001b[1;32m    124\u001b[0m     \u001b[38;5;28;01mdel\u001b[39;00m filtered_tb\n",
      "File \u001b[0;32m/usr/local/lib/python3.11/dist-packages/keras/src/backend/tensorflow/trainer.py:350\u001b[0m, in \u001b[0;36mTensorFlowTrainer.fit\u001b[0;34m(self, x, y, batch_size, epochs, verbose, callbacks, validation_split, validation_data, shuffle, class_weight, sample_weight, initial_epoch, steps_per_epoch, validation_steps, validation_batch_size, validation_freq)\u001b[0m\n\u001b[1;32m    329\u001b[0m         \u001b[38;5;28mself\u001b[39m\u001b[38;5;241m.\u001b[39m_eval_epoch_iterator \u001b[38;5;241m=\u001b[39m TFEpochIterator(\n\u001b[1;32m    330\u001b[0m             x\u001b[38;5;241m=\u001b[39mval_x,\n\u001b[1;32m    331\u001b[0m             y\u001b[38;5;241m=\u001b[39mval_y,\n\u001b[0;32m   (...)\u001b[0m\n\u001b[1;32m    337\u001b[0m             shuffle\u001b[38;5;241m=\u001b[39m\u001b[38;5;28;01mFalse\u001b[39;00m,\n\u001b[1;32m    338\u001b[0m         )\n\u001b[1;32m    339\u001b[0m     val_logs \u001b[38;5;241m=\u001b[39m \u001b[38;5;28mself\u001b[39m\u001b[38;5;241m.\u001b[39mevaluate(\n\u001b[1;32m    340\u001b[0m         x\u001b[38;5;241m=\u001b[39mval_x,\n\u001b[1;32m    341\u001b[0m         y\u001b[38;5;241m=\u001b[39mval_y,\n\u001b[0;32m   (...)\u001b[0m\n\u001b[1;32m    347\u001b[0m         _use_cached_eval_dataset\u001b[38;5;241m=\u001b[39m\u001b[38;5;28;01mTrue\u001b[39;00m,\n\u001b[1;32m    348\u001b[0m     )\n\u001b[1;32m    349\u001b[0m     val_logs \u001b[38;5;241m=\u001b[39m {\n\u001b[0;32m--> 350\u001b[0m         \u001b[38;5;124m\"\u001b[39m\u001b[38;5;124mval_\u001b[39m\u001b[38;5;124m\"\u001b[39m \u001b[38;5;241m+\u001b[39m name: val \u001b[38;5;28;01mfor\u001b[39;00m name, val \u001b[38;5;129;01min\u001b[39;00m \u001b[43mval_logs\u001b[49m\u001b[38;5;241;43m.\u001b[39;49m\u001b[43mitems\u001b[49m()\n\u001b[1;32m    351\u001b[0m     }\n\u001b[1;32m    352\u001b[0m     epoch_logs\u001b[38;5;241m.\u001b[39mupdate(val_logs)\n\u001b[1;32m    354\u001b[0m callbacks\u001b[38;5;241m.\u001b[39mon_epoch_end(epoch, epoch_logs)\n",
      "\u001b[0;31mAttributeError\u001b[0m: 'NoneType' object has no attribute 'items'"
     ]
    }
   ],
   "source": [
    "'''model.fit(img_generator_flow_train,\n",
    "          steps_per_epoch = 346,\n",
    "          validation_data = img_generator_flow_valid,\n",
    "          validation_steps = 148,\n",
    "          epochs = 10)'''"
   ]
  },
  {
   "cell_type": "code",
   "execution_count": null,
   "metadata": {
    "scrolled": true
   },
   "outputs": [
    {
     "name": "stdout",
     "output_type": "stream",
     "text": [
      "Epoch 1/50\n",
      "\u001b[1m14/20\u001b[0m \u001b[32m━━━━━━━━━━━━━━\u001b[0m\u001b[37m━━━━━━\u001b[0m \u001b[1m31s\u001b[0m 5s/step - categorical_accuracy: 0.0592 - loss: 4.2867"
     ]
    }
   ],
   "source": [
    "model.fit(img_generator_flow_train, validation_data=img_generator_flow_valid, steps_per_epoch=20, epochs=50)"
   ]
  },
  {
   "cell_type": "code",
   "execution_count": 44,
   "metadata": {
    "executionInfo": {
     "elapsed": 2061,
     "status": "ok",
     "timestamp": 1617814276494,
     "user": {
      "displayName": "Charles Tanguy",
      "photoUrl": "",
      "userId": "11930294859591867631"
     },
     "user_tz": -120
    },
    "id": "k_R_gfXnKmoT"
   },
   "outputs": [],
   "source": [
    "model.save(\"/tf/notebooks/modelSequential1_skinInceptionV3.keras\")"
   ]
  },
  {
   "cell_type": "code",
   "execution_count": 45,
   "metadata": {
    "executionInfo": {
     "elapsed": 1060,
     "status": "ok",
     "timestamp": 1618246189211,
     "user": {
      "displayName": "Charles Tanguy",
      "photoUrl": "",
      "userId": "11930294859591867631"
     },
     "user_tz": -120
    },
    "id": "VCiGdvUq_Pgg"
   },
   "outputs": [],
   "source": [
    "import json"
   ]
  },
  {
   "cell_type": "code",
   "execution_count": 46,
   "metadata": {
    "executionInfo": {
     "elapsed": 890,
     "status": "ok",
     "timestamp": 1617814279311,
     "user": {
      "displayName": "Charles Tanguy",
      "photoUrl": "",
      "userId": "11930294859591867631"
     },
     "user_tz": -120
    },
    "id": "06qrYr2_Kndi"
   },
   "outputs": [],
   "source": [
    "# Get the dictionary containing each metric and the loss for each epoch\n",
    "history_dict = model.history.history\n",
    "# Save it under the form of a json file\n",
    "json.dump(history_dict, open(\"/tf/notebooks//modelSequential1History_skinInceptionV3.json\", 'w'))"
   ]
  },
  {
   "cell_type": "code",
   "execution_count": null,
   "metadata": {
    "colab": {
     "base_uri": "https://localhost:8080/",
     "height": 90
    },
    "executionInfo": {
     "elapsed": 970,
     "status": "ok",
     "timestamp": 1618246155860,
     "user": {
      "displayName": "Charles Tanguy",
      "photoUrl": "",
      "userId": "11930294859591867631"
     },
     "user_tz": -120
    },
    "id": "RAzHbFhUUF3U",
    "outputId": "9c0bf870-8451-4d92-dad3-0da94d3b838b"
   },
   "outputs": [],
   "source": [
    "#tf.keras.utils.get_file(\"/tf/notebooks/content/caltechFineTuningModelHistory.json\",\n",
    "#                        origin=\"https://full-stack-bigdata-datasets.s3.eu-west-3.amazonaws.com/Deep+learning+Images+processing/Transfer+Learning/caltechFineTuningModelHistory.json\")"
   ]
  },
  {
   "cell_type": "code",
   "execution_count": null,
   "metadata": {
    "executionInfo": {
     "elapsed": 1020,
     "status": "ok",
     "timestamp": 1618246193172,
     "user": {
      "displayName": "Charles Tanguy",
      "photoUrl": "",
      "userId": "11930294859591867631"
     },
     "user_tz": -120
    },
    "id": "fEa_Imm5UKhM"
   },
   "outputs": [],
   "source": [
    "#history_dict = json.load(open(\"/tf/notebooks/content/caltechFineTuningModelHistory.json\", 'r'))"
   ]
  },
  {
   "cell_type": "code",
   "execution_count": null,
   "metadata": {
    "colab": {
     "base_uri": "https://localhost:8080/",
     "height": 90
    },
    "executionInfo": {
     "elapsed": 18778,
     "status": "ok",
     "timestamp": 1618246215380,
     "user": {
      "displayName": "Charles Tanguy",
      "photoUrl": "",
      "userId": "11930294859591867631"
     },
     "user_tz": -120
    },
    "id": "VUjQNUHlUOvL",
    "outputId": "880d9256-91ed-40d6-dadb-533cbdbbad16"
   },
   "outputs": [],
   "source": [
    "#tf.keras.utils.get_file(\"/content/caltechFineTuningModel.h5\",\n",
    "#                        origin=\"https://full-stack-bigdata-datasets.s3.eu-west-3.amazonaws.com/Deep+learning+Images+processing/Transfer+Learning/caltechFineTuningModel.h5\")"
   ]
  },
  {
   "cell_type": "code",
   "execution_count": null,
   "metadata": {
    "executionInfo": {
     "elapsed": 2884,
     "status": "ok",
     "timestamp": 1618246434764,
     "user": {
      "displayName": "Charles Tanguy",
      "photoUrl": "",
      "userId": "11930294859591867631"
     },
     "user_tz": -120
    },
    "id": "D9A5kW_gUUWR"
   },
   "outputs": [],
   "source": [
    "#model = tf.keras.models.load_model(\"/tf/notebooks/content/caltechFineTuningModel.h5\")"
   ]
  },
  {
   "cell_type": "markdown",
   "metadata": {
    "id": "8GQpWS-Hlmyh"
   },
   "source": [
    "6. Visualize your `accuracy` on your `train` and on your `test` "
   ]
  },
  {
   "cell_type": "code",
   "execution_count": 47,
   "metadata": {
    "colab": {
     "base_uri": "https://localhost:8080/",
     "height": 269
    },
    "executionInfo": {
     "elapsed": 529,
     "status": "ok",
     "timestamp": 1618246295824,
     "user": {
      "displayName": "Charles Tanguy",
      "photoUrl": "",
      "userId": "11930294859591867631"
     },
     "user_tz": -120
    },
    "id": "bUOr1iKmaDnQ",
    "outputId": "3b47c942-df0c-4abb-ed60-2ed7c0fa5771"
   },
   "outputs": [
    {
     "data": {
      "image/png": "[encoded data removed]",
      "text/plain": [
       "<Figure size 640x480 with 1 Axes>"
      ]
     },
     "metadata": {},
     "output_type": "display_data"
    }
   ],
   "source": [
    "# Visualise train / Valid Accuracy\n",
    "plt.plot(history_dict[\"categorical_accuracy\"], c=\"r\", label=\"train_accuracy\")\n",
    "plt.plot(history_dict[\"val_categorical_accuracy\"], c=\"b\", label=\"test_accuracy\")\n",
    "plt.legend(loc=\"upper left\")\n",
    "plt.show()"
   ]
  },
  {
   "cell_type": "markdown",
   "metadata": {
    "id": "Xrh_U-XAlsaI"
   },
   "source": [
    "7. Do the same for your `loss`"
   ]
  },
  {
   "cell_type": "code",
   "execution_count": 48,
   "metadata": {
    "colab": {
     "base_uri": "https://localhost:8080/",
     "height": 265
    },
    "executionInfo": {
     "elapsed": 571,
     "status": "ok",
     "timestamp": 1618246307579,
     "user": {
      "displayName": "Charles Tanguy",
      "photoUrl": "",
      "userId": "11930294859591867631"
     },
     "user_tz": -120
    },
    "id": "4pi8xu0OfNwf",
    "outputId": "a7db7d79-81b7-48f3-b047-5c14753ebcf3"
   },
   "outputs": [
    {
     "data": {
      "image/png": "[encoded data removed]",
      "text/plain": [
       "<Figure size 640x480 with 1 Axes>"
      ]
     },
     "metadata": {},
     "output_type": "display_data"
    }
   ],
   "source": [
    "# Visualise train / Valid Loss\n",
    "plt.plot(history_dict[\"loss\"], c=\"r\", label=\"train_loss\")\n",
    "plt.plot(history_dict[\"val_loss\"], c=\"b\", label=\"test_loss\")\n",
    "plt.legend(loc=\"upper left\")\n",
    "plt.show()"
   ]
  },
  {
   "cell_type": "markdown",
   "metadata": {
    "id": "_pQhc-l2FNqx"
   },
   "source": [
    "# Interpretation with Grad Cam\n",
    "\n",
    "1. Create an object `imgs` and an object `labels` containing a batch of validation images and validation labels."
   ]
  },
  {
   "cell_type": "code",
   "execution_count": 49,
   "metadata": {
    "executionInfo": {
     "elapsed": 1217,
     "status": "ok",
     "timestamp": 1618246360869,
     "user": {
      "displayName": "Charles Tanguy",
      "photoUrl": "",
      "userId": "11930294859591867631"
     },
     "user_tz": -120
    },
    "id": "lLplMCfeFf7R"
   },
   "outputs": [],
   "source": [
    "imgs, labels = next(iter(img_generator_flow_valid))"
   ]
  },
  {
   "cell_type": "markdown",
   "metadata": {
    "id": "I8I-bdUWF4p0"
   },
   "source": [
    "2. Get the name of the last convolution layer of the pretrained model and the predicition layers and store them in two variables called respectively `last_conv_layer_name`, and `classifier_layer_names`. "
   ]
  },
  {
   "cell_type": "code",
   "execution_count": 50,
   "metadata": {
    "colab": {
     "base_uri": "https://localhost:8080/"
    },
    "executionInfo": {
     "elapsed": 503,
     "status": "ok",
     "timestamp": 1618246456025,
     "user": {
      "displayName": "Charles Tanguy",
      "photoUrl": "",
      "userId": "11930294859591867631"
     },
     "user_tz": -120
    },
    "id": "5V2mso_zALNz",
    "outputId": "ec4e138c-5dfa-4a84-c805-a61f7c440326"
   },
   "outputs": [
    {
     "name": "stdout",
     "output_type": "stream",
     "text": [
      "inception_v3\n",
      "max_pooling2d_13\n",
      "flatten_5\n",
      "dense_5\n"
     ]
    }
   ],
   "source": [
    "for layer in model.layers:\n",
    "  print(layer.name)"
   ]
  },
  {
   "cell_type": "code",
   "execution_count": 51,
   "metadata": {
    "executionInfo": {
     "elapsed": 503,
     "status": "ok",
     "timestamp": 1618246481805,
     "user": {
      "displayName": "Charles Tanguy",
      "photoUrl": "",
      "userId": "11930294859591867631"
     },
     "user_tz": -120
    },
    "id": "6vRAshK7AWX4"
   },
   "outputs": [],
   "source": [
    "base_model = model.layers[0]"
   ]
  },
  {
   "cell_type": "code",
   "execution_count": 52,
   "metadata": {
    "colab": {
     "base_uri": "https://localhost:8080/",
     "height": 1000,
     "output_embedded_package_id": "1C_C1UWmZYmIX7zlqDAqFgOdOZiiVk2lc"
    },
    "executionInfo": {
     "elapsed": 7896,
     "status": "ok",
     "timestamp": 1618246502164,
     "user": {
      "displayName": "Charles Tanguy",
      "photoUrl": "",
      "userId": "11930294859591867631"
     },
     "user_tz": -120
    },
    "id": "hLh7-rWvGVLs",
    "outputId": "2bbf1414-e8de-48ec-dae3-311e8c77eef7"
   },
   "outputs": [
    {
     "name": "stdout",
     "output_type": "stream",
     "text": [
      "You must install pydot (`pip install pydot`) for `plot_model` to work.\n"
     ]
    }
   ],
   "source": [
    "tf.keras.utils.plot_model(base_model, show_shapes=True, show_layer_names=True)"
   ]
  },
  {
   "cell_type": "code",
   "execution_count": 53,
   "metadata": {},
   "outputs": [
    {
     "name": "stdout",
     "output_type": "stream",
     "text": [
      "Collecting pydot\n",
      "  Downloading pydot-2.0.0-py3-none-any.whl.metadata (9.6 kB)\n",
      "Collecting pyparsing>=3 (from pydot)\n",
      "  Downloading pyparsing-3.1.2-py3-none-any.whl.metadata (5.1 kB)\n",
      "Downloading pydot-2.0.0-py3-none-any.whl (22 kB)\n",
      "Downloading pyparsing-3.1.2-py3-none-any.whl (103 kB)\n",
      "\u001b[2K   \u001b[90m━━━━━━━━━━━━━━━━━━━━━━━━━━━━━━━━━━━━━━━━\u001b[0m \u001b[32m103.2/103.2 kB\u001b[0m \u001b[31m4.6 MB/s\u001b[0m eta \u001b[36m0:00:00\u001b[0m\n",
      "\u001b[?25hInstalling collected packages: pyparsing, pydot\n",
      "  Attempting uninstall: pyparsing\n",
      "    Found existing installation: pyparsing 2.4.7\n",
      "    Uninstalling pyparsing-2.4.7:\n",
      "      Successfully uninstalled pyparsing-2.4.7\n",
      "Successfully installed pydot-2.0.0 pyparsing-3.1.2\n",
      "\u001b[33mWARNING: Running pip as the 'root' user can result in broken permissions and conflicting behaviour with the system package manager. It is recommended to use a virtual environment instead: https://pip.pypa.io/warnings/venv\u001b[0m\u001b[33m\n",
      "\u001b[0m"
     ]
    }
   ],
   "source": [
    "#!pip install pydot"
   ]
  },
  {
   "cell_type": "code",
   "execution_count": 54,
   "metadata": {
    "colab": {
     "base_uri": "https://localhost:8080/"
    },
    "executionInfo": {
     "elapsed": 557,
     "status": "ok",
     "timestamp": 1618246510661,
     "user": {
      "displayName": "Charles Tanguy",
      "photoUrl": "",
      "userId": "11930294859591867631"
     },
     "user_tz": -120
    },
    "id": "VQnaZekLHB0c",
    "outputId": "51403c77-ef11-4533-bc50-5ccc5837e65c"
   },
   "outputs": [
    {
     "name": "stdout",
     "output_type": "stream",
     "text": [
      "input_layer_4\n",
      "conv2d_94\n",
      "batch_normalization_94\n",
      "activation_94\n",
      "conv2d_95\n",
      "batch_normalization_95\n",
      "activation_95\n",
      "conv2d_96\n",
      "batch_normalization_96\n",
      "activation_96\n",
      "max_pooling2d_8\n",
      "conv2d_97\n",
      "batch_normalization_97\n",
      "activation_97\n",
      "conv2d_98\n",
      "batch_normalization_98\n",
      "activation_98\n",
      "max_pooling2d_9\n",
      "conv2d_102\n",
      "batch_normalization_102\n",
      "activation_102\n",
      "conv2d_100\n",
      "conv2d_103\n",
      "batch_normalization_100\n",
      "batch_normalization_103\n",
      "activation_100\n",
      "activation_103\n",
      "average_pooling2d_9\n",
      "conv2d_99\n",
      "conv2d_101\n",
      "conv2d_104\n",
      "conv2d_105\n",
      "batch_normalization_99\n",
      "batch_normalization_101\n",
      "batch_normalization_104\n",
      "batch_normalization_105\n",
      "activation_99\n",
      "activation_101\n",
      "activation_104\n",
      "activation_105\n",
      "mixed0\n",
      "conv2d_109\n",
      "batch_normalization_109\n",
      "activation_109\n",
      "conv2d_107\n",
      "conv2d_110\n",
      "batch_normalization_107\n",
      "batch_normalization_110\n",
      "activation_107\n",
      "activation_110\n",
      "average_pooling2d_10\n",
      "conv2d_106\n",
      "conv2d_108\n",
      "conv2d_111\n",
      "conv2d_112\n",
      "batch_normalization_106\n",
      "batch_normalization_108\n",
      "batch_normalization_111\n",
      "batch_normalization_112\n",
      "activation_106\n",
      "activation_108\n",
      "activation_111\n",
      "activation_112\n",
      "mixed1\n",
      "conv2d_116\n",
      "batch_normalization_116\n",
      "activation_116\n",
      "conv2d_114\n",
      "conv2d_117\n",
      "batch_normalization_114\n",
      "batch_normalization_117\n",
      "activation_114\n",
      "activation_117\n",
      "average_pooling2d_11\n",
      "conv2d_113\n",
      "conv2d_115\n",
      "conv2d_118\n",
      "conv2d_119\n",
      "batch_normalization_113\n",
      "batch_normalization_115\n",
      "batch_normalization_118\n",
      "batch_normalization_119\n",
      "activation_113\n",
      "activation_115\n",
      "activation_118\n",
      "activation_119\n",
      "mixed2\n",
      "conv2d_121\n",
      "batch_normalization_121\n",
      "activation_121\n",
      "conv2d_122\n",
      "batch_normalization_122\n",
      "activation_122\n",
      "conv2d_120\n",
      "conv2d_123\n",
      "batch_normalization_120\n",
      "batch_normalization_123\n",
      "activation_120\n",
      "activation_123\n",
      "max_pooling2d_10\n",
      "mixed3\n",
      "conv2d_128\n",
      "batch_normalization_128\n",
      "activation_128\n",
      "conv2d_129\n",
      "batch_normalization_129\n",
      "activation_129\n",
      "conv2d_125\n",
      "conv2d_130\n",
      "batch_normalization_125\n",
      "batch_normalization_130\n",
      "activation_125\n",
      "activation_130\n",
      "conv2d_126\n",
      "conv2d_131\n",
      "batch_normalization_126\n",
      "batch_normalization_131\n",
      "activation_126\n",
      "activation_131\n",
      "average_pooling2d_12\n",
      "conv2d_124\n",
      "conv2d_127\n",
      "conv2d_132\n",
      "conv2d_133\n",
      "batch_normalization_124\n",
      "batch_normalization_127\n",
      "batch_normalization_132\n",
      "batch_normalization_133\n",
      "activation_124\n",
      "activation_127\n",
      "activation_132\n",
      "activation_133\n",
      "mixed4\n",
      "conv2d_138\n",
      "batch_normalization_138\n",
      "activation_138\n",
      "conv2d_139\n",
      "batch_normalization_139\n",
      "activation_139\n",
      "conv2d_135\n",
      "conv2d_140\n",
      "batch_normalization_135\n",
      "batch_normalization_140\n",
      "activation_135\n",
      "activation_140\n",
      "conv2d_136\n",
      "conv2d_141\n",
      "batch_normalization_136\n",
      "batch_normalization_141\n",
      "activation_136\n",
      "activation_141\n",
      "average_pooling2d_13\n",
      "conv2d_134\n",
      "conv2d_137\n",
      "conv2d_142\n",
      "conv2d_143\n",
      "batch_normalization_134\n",
      "batch_normalization_137\n",
      "batch_normalization_142\n",
      "batch_normalization_143\n",
      "activation_134\n",
      "activation_137\n",
      "activation_142\n",
      "activation_143\n",
      "mixed5\n",
      "conv2d_148\n",
      "batch_normalization_148\n",
      "activation_148\n",
      "conv2d_149\n",
      "batch_normalization_149\n",
      "activation_149\n",
      "conv2d_145\n",
      "conv2d_150\n",
      "batch_normalization_145\n",
      "batch_normalization_150\n",
      "activation_145\n",
      "activation_150\n",
      "conv2d_146\n",
      "conv2d_151\n",
      "batch_normalization_146\n",
      "batch_normalization_151\n",
      "activation_146\n",
      "activation_151\n",
      "average_pooling2d_14\n",
      "conv2d_144\n",
      "conv2d_147\n",
      "conv2d_152\n",
      "conv2d_153\n",
      "batch_normalization_144\n",
      "batch_normalization_147\n",
      "batch_normalization_152\n",
      "batch_normalization_153\n",
      "activation_144\n",
      "activation_147\n",
      "activation_152\n",
      "activation_153\n",
      "mixed6\n",
      "conv2d_158\n",
      "batch_normalization_158\n",
      "activation_158\n",
      "conv2d_159\n",
      "batch_normalization_159\n",
      "activation_159\n",
      "conv2d_155\n",
      "conv2d_160\n",
      "batch_normalization_155\n",
      "batch_normalization_160\n",
      "activation_155\n",
      "activation_160\n",
      "conv2d_156\n",
      "conv2d_161\n",
      "batch_normalization_156\n",
      "batch_normalization_161\n",
      "activation_156\n",
      "activation_161\n",
      "average_pooling2d_15\n",
      "conv2d_154\n",
      "conv2d_157\n",
      "conv2d_162\n",
      "conv2d_163\n",
      "batch_normalization_154\n",
      "batch_normalization_157\n",
      "batch_normalization_162\n",
      "batch_normalization_163\n",
      "activation_154\n",
      "activation_157\n",
      "activation_162\n",
      "activation_163\n",
      "mixed7\n",
      "conv2d_166\n",
      "batch_normalization_166\n",
      "activation_166\n",
      "conv2d_167\n",
      "batch_normalization_167\n",
      "activation_167\n",
      "conv2d_164\n",
      "conv2d_168\n",
      "batch_normalization_164\n",
      "batch_normalization_168\n",
      "activation_164\n",
      "activation_168\n",
      "conv2d_165\n",
      "conv2d_169\n",
      "batch_normalization_165\n",
      "batch_normalization_169\n",
      "activation_165\n",
      "activation_169\n",
      "max_pooling2d_11\n",
      "mixed8\n",
      "conv2d_174\n",
      "batch_normalization_174\n",
      "activation_174\n",
      "conv2d_171\n",
      "conv2d_175\n",
      "batch_normalization_171\n",
      "batch_normalization_175\n",
      "activation_171\n",
      "activation_175\n",
      "conv2d_172\n",
      "conv2d_173\n",
      "conv2d_176\n",
      "conv2d_177\n",
      "average_pooling2d_16\n",
      "conv2d_170\n",
      "batch_normalization_172\n",
      "batch_normalization_173\n",
      "batch_normalization_176\n",
      "batch_normalization_177\n",
      "conv2d_178\n",
      "batch_normalization_170\n",
      "activation_172\n",
      "activation_173\n",
      "activation_176\n",
      "activation_177\n",
      "batch_normalization_178\n",
      "activation_170\n",
      "mixed9_0\n",
      "concatenate_2\n",
      "activation_178\n",
      "mixed9\n",
      "conv2d_183\n",
      "batch_normalization_183\n",
      "activation_183\n",
      "conv2d_180\n",
      "conv2d_184\n",
      "batch_normalization_180\n",
      "batch_normalization_184\n",
      "activation_180\n",
      "activation_184\n",
      "conv2d_181\n",
      "conv2d_182\n",
      "conv2d_185\n",
      "conv2d_186\n",
      "average_pooling2d_17\n",
      "conv2d_179\n",
      "batch_normalization_181\n",
      "batch_normalization_182\n",
      "batch_normalization_185\n",
      "batch_normalization_186\n",
      "conv2d_187\n",
      "batch_normalization_179\n",
      "activation_181\n",
      "activation_182\n",
      "activation_185\n",
      "activation_186\n",
      "batch_normalization_187\n",
      "activation_179\n",
      "mixed9_1\n",
      "concatenate_3\n",
      "activation_187\n",
      "mixed10\n"
     ]
    }
   ],
   "source": [
    "for layer in base_model.layers:\n",
    "  print(layer.name)"
   ]
  },
  {
   "cell_type": "code",
   "execution_count": 55,
   "metadata": {
    "colab": {
     "base_uri": "https://localhost:8080/"
    },
    "executionInfo": {
     "elapsed": 516,
     "status": "ok",
     "timestamp": 1618246517178,
     "user": {
      "displayName": "Charles Tanguy",
      "photoUrl": "",
      "userId": "11930294859591867631"
     },
     "user_tz": -120
    },
    "id": "FT5UohxqHRqN",
    "outputId": "0b751d88-33a7-4696-eb18-3411625d4aff"
   },
   "outputs": [
    {
     "name": "stdout",
     "output_type": "stream",
     "text": [
      "inception_v3\n",
      "max_pooling2d_13\n",
      "flatten_5\n",
      "dense_5\n"
     ]
    }
   ],
   "source": [
    "for layer in model.layers:\n",
    "  print(layer.name)"
   ]
  },
  {
   "cell_type": "code",
   "execution_count": 56,
   "metadata": {
    "executionInfo": {
     "elapsed": 480,
     "status": "ok",
     "timestamp": 1618246519011,
     "user": {
      "displayName": "Charles Tanguy",
      "photoUrl": "",
      "userId": "11930294859591867631"
     },
     "user_tz": -120
    },
    "id": "4dBZ-cwT__Q9"
   },
   "outputs": [],
   "source": [
    "last_conv_layer_name = \"mixed10\"\n",
    "classifier_layer_names = [layer.name for layer in model.layers][1:]"
   ]
  },
  {
   "cell_type": "markdown",
   "metadata": {
    "id": "gh-rnxXEHfzf"
   },
   "source": [
    "3. Run the following command, these functions will help you produce the grad cam"
   ]
  },
  {
   "cell_type": "code",
   "execution_count": 57,
   "metadata": {
    "executionInfo": {
     "elapsed": 487,
     "status": "ok",
     "timestamp": 1618246522558,
     "user": {
      "displayName": "Charles Tanguy",
      "photoUrl": "",
      "userId": "11930294859591867631"
     },
     "user_tz": -120
    },
    "id": "2MP08rJZK21C"
   },
   "outputs": [],
   "source": [
    "# We start by setting up the dependencies we will use\n",
    "\n",
    "import numpy as np\n",
    "import tensorflow as tf\n",
    "from tensorflow import keras\n",
    "\n",
    "# Display\n",
    "from IPython.display import Image\n",
    "import matplotlib.pyplot as plt\n",
    "import matplotlib.cm as cm"
   ]
  },
  {
   "cell_type": "code",
   "execution_count": 58,
   "metadata": {
    "executionInfo": {
     "elapsed": 487,
     "status": "ok",
     "timestamp": 1618246524975,
     "user": {
      "displayName": "Charles Tanguy",
      "photoUrl": "",
      "userId": "11930294859591867631"
     },
     "user_tz": -120
    },
    "id": "Kc0E2JuDHerF"
   },
   "outputs": [],
   "source": [
    "# The Grad-CAM algorithm\n",
    "def get_img_array(img_path, size):\n",
    "    # `img` is a PIL image of size 299x299\n",
    "    img = keras.preprocessing.image.load_img(img_path, target_size=size)\n",
    "    # `array` is a float32 Numpy array of shape (299, 299, 3)\n",
    "    array = keras.preprocessing.image.img_to_array(img)\n",
    "    # We add a dimension to transform our array into a \"batch\"\n",
    "    # of size (1, 299, 299, 3)\n",
    "    array = np.expand_dims(array, axis=0)\n",
    "    return array\n",
    "\n",
    "\n",
    "def make_gradcam_heatmap(\n",
    "    img_array, base_model, model, last_conv_layer_name, classifier_layer_names):\n",
    "    # First, we create a model that maps the input image to the activations\n",
    "    # of the last conv layer\n",
    "    last_conv_layer = base_model.get_layer(last_conv_layer_name)\n",
    "    last_conv_layer_model = keras.Model(base_model.inputs, last_conv_layer.output)\n",
    "\n",
    "    # Second, we create a model that maps the activations of the last conv\n",
    "    # layer to the final class predictions\n",
    "    classifier_input = keras.Input(shape=last_conv_layer.output.shape[1:])\n",
    "    x = classifier_input\n",
    "    for layer_name in classifier_layer_names:\n",
    "        x = model.get_layer(layer_name)(x)\n",
    "    classifier_model = keras.Model(classifier_input, x)\n",
    "\n",
    "    # Then, we compute the gradient of the top predicted class for our input image\n",
    "    # with respect to the activations of the last conv layer\n",
    "    with tf.GradientTape() as tape:\n",
    "        # Compute activations of the last conv layer and make the tape watch it\n",
    "        last_conv_layer_output = last_conv_layer_model(img_array)\n",
    "        tape.watch(last_conv_layer_output)\n",
    "        # Compute class predictions\n",
    "        preds = classifier_model(last_conv_layer_output)\n",
    "        top_pred_index = tf.argmax(preds[0])\n",
    "        top_class_channel = preds[:, top_pred_index]\n",
    "\n",
    "    # This is the gradient of the top predicted class with regard to\n",
    "    # the output feature map of the last conv layer\n",
    "    grads = tape.gradient(top_class_channel, last_conv_layer_output)\n",
    "\n",
    "    # This is a vector where each entry is the mean intensity of the gradient\n",
    "    # over a specific feature map channel\n",
    "    pooled_grads = tf.reduce_mean(grads, axis=(0, 1, 2))\n",
    "\n",
    "    # We multiply each channel in the feature map array\n",
    "    # by \"how important this channel is\" with regard to the top predicted class\n",
    "    last_conv_layer_output = last_conv_layer_output.numpy()[0]\n",
    "    pooled_grads = pooled_grads.numpy()\n",
    "    for i in range(pooled_grads.shape[-1]):\n",
    "        last_conv_layer_output[:, :, i] *= pooled_grads[i]\n",
    "\n",
    "    # The channel-wise mean of the resulting feature map\n",
    "    # is our heatmap of class activation\n",
    "    heatmap = np.mean(last_conv_layer_output, axis=-1)\n",
    "\n",
    "    # For visualization purpose, we will also normalize the heatmap between 0 & 1\n",
    "    heatmap = np.maximum(heatmap, 0) / np.max(heatmap)\n",
    "    return heatmap"
   ]
  },
  {
   "cell_type": "markdown",
   "metadata": {
    "id": "Niy3Frwb90O8"
   },
   "source": [
    "4. Create a `preds` object containing the predicitons from your model on the batch of validation images.\n",
    "\n",
    "Then create a `pred_labels` object containing the top class predicted for each image in that batch. (You can use the `tf.argmax` function for this)"
   ]
  },
  {
   "cell_type": "code",
   "execution_count": 59,
   "metadata": {
    "colab": {
     "base_uri": "https://localhost:8080/"
    },
    "executionInfo": {
     "elapsed": 515,
     "status": "ok",
     "timestamp": 1618247244690,
     "user": {
      "displayName": "Charles Tanguy",
      "photoUrl": "",
      "userId": "11930294859591867631"
     },
     "user_tz": -120
    },
    "id": "78iY8O8k-tDl",
    "outputId": "202ce51e-639a-485b-dcf1-e7e499a7f41f"
   },
   "outputs": [
    {
     "name": "stdout",
     "output_type": "stream",
     "text": [
      "\u001b[1m1/1\u001b[0m \u001b[32m━━━━━━━━━━━━━━━━━━━━\u001b[0m\u001b[37m\u001b[0m \u001b[1m2s\u001b[0m 2s/step\n",
      "Prediction output: [[6.08121790e-03 8.00540380e-04 1.31955638e-03 1.33882146e-04\n",
      "  1.31816976e-03 4.00454439e-02 9.17480094e-04 7.72564454e-05\n",
      "  6.05719379e-07 8.35552514e-02 9.79595585e-04 3.35469749e-03\n",
      "  1.42673927e-03 3.13787768e-03 9.51773021e-03 8.06885779e-01\n",
      "  3.12416162e-03 1.35316337e-02 3.18137318e-04 1.94649603e-02\n",
      "  7.80271730e-05 3.59285437e-03 2.79083652e-05 3.10495147e-04]\n",
      " [7.04093790e-03 4.33040224e-03 7.04097911e-05 8.54271057e-04\n",
      "  3.61374405e-05 8.33391547e-02 4.83611628e-04 1.65436987e-03\n",
      "  3.02416151e-06 1.13747735e-02 4.27083857e-03 5.94335834e-05\n",
      "  5.12185460e-03 4.04539192e-03 5.82677254e-04 3.25524695e-02\n",
      "  2.30185245e-03 7.25721911e-05 8.37961018e-01 4.14226161e-05\n",
      "  1.05200415e-04 2.06312216e-05 1.03692719e-05 3.66717274e-03]\n",
      " [6.22083724e-01 5.20933559e-03 2.47788802e-03 4.11111658e-04\n",
      "  1.31411338e-02 5.52191725e-03 1.75406254e-04 1.60431646e-05\n",
      "  1.10058363e-06 5.51884586e-05 7.48343649e-04 2.48090038e-03\n",
      "  1.17184746e-03 4.40607721e-04 1.73759073e-01 1.62378728e-01\n",
      "  1.43718025e-05 4.31712368e-04 3.03950481e-04 2.56459665e-04\n",
      "  5.63611081e-07 8.18805583e-03 4.33138455e-04 2.99352309e-04]\n",
      " [3.01964523e-04 6.12903910e-04 1.21294416e-01 1.15258368e-02\n",
      "  2.07578465e-02 3.35416943e-02 4.13970510e-03 1.76858812e-04\n",
      "  2.74648599e-04 8.43162998e-05 3.52738559e-01 8.01770315e-02\n",
      "  7.32667249e-05 8.88305931e-06 2.58543482e-03 4.06265492e-03\n",
      "  1.43903497e-04 7.33992201e-04 4.53041866e-02 2.71883279e-01\n",
      "  3.80409276e-03 1.61803153e-03 3.87704372e-02 5.38610946e-03]\n",
      " [1.10558017e-06 6.76822879e-07 4.19250501e-09 7.89038677e-06\n",
      "  1.25534359e-06 3.53101568e-05 6.28323917e-08 9.02281982e-09\n",
      "  2.06301620e-09 1.39746303e-08 7.08324933e-07 1.90418739e-08\n",
      "  4.28311431e-08 9.99899983e-01 1.96420933e-06 1.57570812e-05\n",
      "  2.54511747e-07 3.52217846e-08 1.02651775e-05 2.16490716e-05\n",
      "  2.81952950e-09 6.98588053e-07 2.56851362e-09 2.41343491e-06]\n",
      " [2.22943481e-02 3.16164792e-02 1.37666697e-02 1.05234198e-02\n",
      "  2.63346620e-02 3.37482929e-01 4.90532955e-03 3.23614106e-04\n",
      "  2.74874998e-04 8.98975704e-04 3.31567265e-02 8.21778458e-03\n",
      "  1.50895480e-03 3.22589502e-02 4.36866246e-02 9.79073420e-02\n",
      "  4.78944257e-02 1.07284887e-02 3.49670760e-02 1.80334494e-01\n",
      "  3.40839295e-04 4.44513969e-02 1.51265142e-02 9.99069074e-04]\n",
      " [1.57101511e-03 1.39634814e-02 1.45020904e-05 5.97732898e-04\n",
      "  1.07064727e-03 7.87638687e-03 3.61030216e-05 2.39132680e-02\n",
      "  1.26084649e-06 9.02328134e-01 3.50389455e-04 4.66666976e-03\n",
      "  1.54991169e-03 5.78718755e-05 2.38120602e-03 1.62315229e-03\n",
      "  1.10668421e-04 2.46762851e-04 1.48981845e-03 3.46822888e-02\n",
      "  4.40289587e-04 1.44791093e-05 1.60572120e-06 1.01241877e-03]\n",
      " [2.77559701e-02 1.79840684e-01 3.14085162e-04 5.49321482e-03\n",
      "  6.57870085e-04 1.65285624e-03 2.83114845e-03 4.14399925e-04\n",
      "  6.18112463e-05 2.89832335e-02 1.57715217e-03 3.15176672e-03\n",
      "  8.70400146e-02 1.55731058e-03 6.06640242e-04 4.15576762e-03\n",
      "  2.92498302e-02 5.26590765e-01 5.87960007e-03 2.54866164e-02\n",
      "  8.91492527e-06 3.40861641e-02 1.29165489e-03 3.13125178e-02]\n",
      " [1.34502918e-01 5.67797013e-02 1.18544216e-04 4.42628079e-04\n",
      "  1.92461489e-03 8.52120444e-02 3.33814602e-03 6.74179639e-04\n",
      "  6.49014396e-07 3.29925865e-01 7.34189060e-03 1.01735967e-03\n",
      "  1.56957619e-02 1.35216178e-04 1.33478723e-03 6.70129284e-02\n",
      "  6.00414816e-03 1.13543220e-01 1.51856511e-04 1.62057877e-01\n",
      "  2.09101709e-05 1.11614726e-02 1.26512159e-05 1.59056252e-03]\n",
      " [2.61278916e-03 9.22840595e-01 8.87479359e-07 3.27729387e-04\n",
      "  9.07568552e-04 3.57789468e-05 7.62062555e-04 3.48634421e-05\n",
      "  1.07176288e-06 3.16287093e-02 2.79679953e-05 1.88046924e-05\n",
      "  7.60939583e-05 3.12949978e-02 1.37632320e-04 2.93926423e-05\n",
      "  3.46431904e-03 1.05358726e-04 2.93143024e-03 1.46013726e-05\n",
      "  4.24573017e-08 4.28500818e-04 8.44492824e-05 2.23433389e-03]\n",
      " [9.59051133e-04 4.41289395e-01 2.78709995e-05 7.85946101e-03\n",
      "  2.20405404e-02 5.19415364e-03 1.21181132e-02 2.72006491e-06\n",
      "  4.95444681e-07 1.06552824e-01 9.07068898e-04 1.60123236e-04\n",
      "  2.52184987e-01 3.09150256e-02 4.39842144e-04 8.94365553e-03\n",
      "  4.23322096e-02 8.66079528e-04 6.31188899e-02 8.49953067e-05\n",
      "  2.21057917e-06 3.16315354e-03 1.37987983e-04 6.99019001e-04]\n",
      " [5.37958054e-04 9.90523957e-03 1.02441534e-02 2.04819322e-01\n",
      "  2.36778497e-03 1.28828034e-01 3.90088856e-02 9.64857900e-05\n",
      "  7.46620117e-06 1.94021873e-03 3.70229065e-01 2.03709980e-03\n",
      "  1.19069929e-03 4.98867268e-03 7.48873176e-03 1.04486244e-02\n",
      "  5.76257566e-03 9.97279305e-04 1.92722231e-02 1.43777475e-01\n",
      "  3.31696495e-03 3.14242989e-02 9.35634074e-04 3.75089323e-04]\n",
      " [4.47375374e-03 6.55659884e-02 7.18465820e-03 3.46233815e-01\n",
      "  2.37824600e-02 9.40345414e-03 7.77065828e-02 4.03642771e-04\n",
      "  1.08129143e-05 4.01734486e-02 1.24611920e-02 6.40896987e-03\n",
      "  8.11173767e-03 4.39991767e-04 1.22025441e-02 1.55476645e-01\n",
      "  3.29940929e-04 4.67497073e-02 8.15159157e-02 1.03247995e-02\n",
      "  4.69525419e-02 2.37918869e-02 1.45477382e-03 1.88407563e-02]\n",
      " [1.98813592e-04 5.08603379e-02 3.52516035e-05 1.99911447e-05\n",
      "  2.29883585e-02 6.89401524e-03 1.29026379e-02 7.58139213e-05\n",
      "  7.12821156e-06 1.38283037e-02 5.13178483e-02 1.07281432e-02\n",
      "  9.02708545e-02 2.24057134e-04 8.82735103e-02 5.41278064e-01\n",
      "  7.42938602e-04 1.02339938e-01 1.82692567e-03 9.30890033e-04\n",
      "  7.27679981e-06 3.10632796e-03 1.10812989e-05 1.13152666e-03]\n",
      " [3.99175434e-07 2.37061869e-07 8.93415574e-07 7.52522601e-06\n",
      "  4.63730458e-07 1.24136335e-04 1.98603243e-06 1.42928558e-08\n",
      "  2.58025867e-09 2.10480309e-07 4.52989013e-07 9.29525413e-07\n",
      "  7.94831667e-09 9.99817908e-01 2.40660512e-07 1.09862219e-06\n",
      "  5.62085404e-07 2.81048443e-07 7.39328470e-06 2.60570159e-05\n",
      "  1.05633557e-09 6.64496656e-06 2.72412393e-07 2.39890687e-06]\n",
      " [1.99066401e-01 1.10642821e-01 1.64843025e-03 8.48828815e-03\n",
      "  2.43890123e-03 1.41188651e-01 9.26253106e-03 1.82369922e-03\n",
      "  1.48127401e-05 6.10087179e-02 1.63226426e-02 2.02478170e-01\n",
      "  4.24863584e-02 1.56746537e-03 1.93043482e-02 1.00630835e-01\n",
      "  1.07845692e-02 2.15869546e-02 3.30964923e-02 3.80476192e-03\n",
      "  1.48629842e-04 6.32267445e-03 2.19256827e-03 3.69031914e-03]\n",
      " [5.38966246e-03 3.58127523e-04 2.70132936e-04 4.30285279e-03\n",
      "  2.31809885e-04 5.63519776e-01 7.35340267e-02 2.33866085e-04\n",
      "  5.41483996e-06 4.40532021e-04 2.33243853e-02 6.32393081e-03\n",
      "  4.90270031e-05 1.17384270e-03 1.67063288e-02 1.82995826e-01\n",
      "  1.48346371e-04 3.21312662e-04 2.01573577e-02 1.00055039e-01\n",
      "  3.22050801e-05 5.42752932e-05 1.33147390e-04 2.38781446e-04]\n",
      " [9.70592618e-01 9.40876373e-04 3.25992471e-04 5.29469922e-03\n",
      "  2.87235971e-03 3.99746175e-04 6.76334748e-05 4.32278030e-05\n",
      "  2.27817509e-07 2.24196864e-03 4.79887647e-04 9.58776218e-05\n",
      "  2.20568487e-04 9.39548365e-04 1.18231773e-03 1.79916259e-03\n",
      "  1.72746877e-04 5.56096202e-04 1.99108574e-04 3.65673390e-04\n",
      "  5.42648595e-05 2.25956482e-03 1.18425640e-03 7.71163590e-03]\n",
      " [1.63978096e-02 8.39217508e-04 1.38891468e-04 1.41087901e-02\n",
      "  4.65837261e-03 1.61692183e-02 4.71083522e-02 1.08043721e-03\n",
      "  2.97963282e-07 2.14662612e-03 1.14620455e-01 1.30167557e-03\n",
      "  1.61151506e-03 5.68449032e-04 7.04489043e-03 6.79372251e-01\n",
      "  7.73676205e-04 2.90783178e-02 2.11218391e-02 3.87510620e-02\n",
      "  1.93447646e-04 2.82362755e-03 3.27377602e-05 5.79819607e-05]\n",
      " [9.13931608e-01 1.47719251e-03 5.68117131e-04 1.29754667e-03\n",
      "  3.51579711e-02 2.07201927e-03 3.96638325e-06 7.35363528e-06\n",
      "  3.29126237e-08 1.65404981e-06 2.17168053e-05 9.43649444e-04\n",
      "  6.25977700e-05 1.79739349e-04 4.00037551e-03 2.19270010e-02\n",
      "  2.00721424e-05 2.23607003e-05 2.07192672e-04 1.08117893e-04\n",
      "  2.88798873e-07 1.70735437e-02 8.95890465e-04 2.00270370e-05]\n",
      " [7.77882960e-05 1.88658446e-01 1.66382790e-07 5.81175736e-05\n",
      "  5.23600056e-06 2.84887617e-04 4.44524339e-05 1.30340541e-05\n",
      "  4.55533518e-05 2.14519998e-04 6.52297022e-05 1.61343440e-01\n",
      "  3.56818177e-03 5.69019886e-03 1.04330873e-04 1.58906943e-04\n",
      "  2.43348914e-05 1.18348643e-03 6.37358129e-01 1.43536090e-04\n",
      "  3.64165729e-08 8.24989169e-04 1.02139405e-04 3.07433584e-05]\n",
      " [7.66617653e-04 1.76986528e-03 2.80248525e-04 3.18296923e-04\n",
      "  2.33414769e-03 9.29855943e-01 1.68512412e-03 4.77994445e-06\n",
      "  5.11602366e-07 8.50604192e-05 3.19080614e-03 5.29693323e-04\n",
      "  1.05971318e-04 1.19483355e-03 6.15609623e-03 4.27632108e-02\n",
      "  1.82888922e-04 4.93027619e-05 1.93677214e-03 6.62036566e-03\n",
      "  3.72246791e-06 3.74778247e-05 1.15075760e-04 1.31805400e-05]\n",
      " [3.86249423e-01 5.63815422e-02 7.41351768e-02 1.11438287e-03\n",
      "  1.07707875e-03 2.49160342e-02 2.90346565e-03 3.07984941e-04\n",
      "  1.49452471e-05 2.48212963e-02 7.92680606e-02 2.83375196e-03\n",
      "  5.56175224e-03 1.18399831e-03 1.07374199e-01 6.50404617e-02\n",
      "  1.18669104e-02 3.38134021e-02 1.46391336e-02 4.11964022e-03\n",
      "  2.31716258e-04 4.45464440e-02 8.73661484e-04 5.67255877e-02]\n",
      " [8.57767835e-02 4.31647122e-01 1.02399255e-03 6.90046744e-03\n",
      "  2.19851220e-03 2.74705682e-02 1.35824166e-03 1.18551254e-01\n",
      "  1.70450801e-06 2.96690743e-02 6.13661073e-02 2.17408668e-02\n",
      "  2.96905022e-02 1.08077750e-03 2.18528556e-03 1.04900420e-01\n",
      "  1.09874457e-02 2.86141932e-02 1.70173158e-03 6.10282971e-03\n",
      "  3.86277039e-04 2.26443075e-02 9.08050628e-04 3.09338607e-03]\n",
      " [1.50139583e-02 1.81907937e-01 1.14872353e-03 1.91563386e-02\n",
      "  3.97740258e-03 1.41226435e-02 9.48358998e-02 3.54733504e-02\n",
      "  8.98082857e-04 5.70655661e-03 2.44494132e-03 8.83120019e-03\n",
      "  2.89189648e-02 5.70334122e-03 6.72890292e-03 1.22035178e-03\n",
      "  9.39655956e-03 3.94892246e-02 4.66675937e-01 9.82906669e-03\n",
      "  1.12128480e-04 1.87543742e-02 1.74765885e-02 1.21774748e-02]\n",
      " [1.16199655e-04 4.19962825e-03 1.65237143e-04 1.11350097e-01\n",
      "  9.27606452e-05 1.15096755e-03 1.29272621e-05 1.58925868e-05\n",
      "  2.59625708e-08 8.35889427e-04 2.43824179e-04 2.31086844e-04\n",
      "  1.32749928e-03 5.40904045e-01 6.15183823e-03 3.01069170e-01\n",
      "  4.07390122e-04 2.41893865e-02 5.19355217e-06 8.82904162e-04\n",
      "  8.14800273e-07 1.48142892e-04 5.89343440e-03 6.05642446e-04]\n",
      " [1.17550360e-03 3.96112651e-02 1.31784486e-06 4.35130328e-01\n",
      "  1.88058674e-01 8.20823107e-03 6.99357315e-06 2.92521133e-03\n",
      "  3.38470556e-07 9.43921357e-02 2.20855909e-05 1.30942251e-04\n",
      "  4.05039452e-03 6.40136423e-05 3.83935943e-02 6.05822355e-02\n",
      "  5.59744476e-05 5.29437372e-03 2.83499219e-04 1.02173522e-01\n",
      "  2.92704584e-07 1.48517368e-02 6.33913209e-04 3.95338936e-03]\n",
      " [2.86056489e-01 1.69692457e-01 3.98976612e-04 4.39175777e-03\n",
      "  6.28409348e-03 4.04882170e-02 2.90832901e-03 5.81941893e-03\n",
      "  1.32865112e-04 3.37693878e-02 1.07812439e-03 5.33124758e-03\n",
      "  1.26082748e-02 1.09507365e-03 2.19954029e-02 1.22453813e-02\n",
      "  2.43266392e-03 5.61377555e-02 2.68180400e-01 4.50668298e-02\n",
      "  3.28543538e-05 1.78985409e-02 5.11988415e-04 5.44354552e-03]\n",
      " [1.02758398e-02 5.19532673e-02 2.12158225e-02 4.64833863e-02\n",
      "  1.80865899e-02 2.07486581e-02 1.85159268e-03 6.34024327e-05\n",
      "  1.65517384e-03 1.85095564e-01 3.10403854e-01 1.08328613e-03\n",
      "  6.01206115e-03 1.24267198e-03 1.20767737e-02 2.13699155e-02\n",
      "  1.10466834e-02 2.38021985e-02 9.69902873e-02 7.36352243e-03\n",
      "  3.85220017e-04 1.70384366e-02 2.21386291e-02 1.11617178e-01]\n",
      " [1.67891165e-04 1.97844999e-03 1.34671614e-01 3.08441240e-02\n",
      "  3.27872671e-02 9.72825587e-02 4.28435177e-01 1.69086401e-04\n",
      "  5.28992561e-04 8.11141217e-05 7.04058260e-02 1.40750222e-03\n",
      "  2.56982632e-04 2.69706291e-03 3.45965512e-02 5.45640662e-03\n",
      "  4.87351976e-03 9.76852956e-04 5.06769083e-02 6.17090911e-02\n",
      "  1.84025560e-02 2.10500485e-03 1.90039538e-02 4.85545199e-04]\n",
      " [1.98868755e-03 1.51155628e-02 3.72957322e-04 3.07068080e-01\n",
      "  2.92303087e-03 3.07376438e-04 2.41661735e-04 3.19321625e-05\n",
      "  3.19451806e-06 9.08878283e-04 8.62226263e-03 3.06221482e-04\n",
      "  8.45255505e-04 3.63006286e-04 2.95659946e-03 2.16314215e-02\n",
      "  1.39527768e-02 4.68386570e-04 7.93099031e-03 3.40464383e-01\n",
      "  2.57953972e-01 1.45812212e-02 2.18922378e-05 9.40237253e-04]\n",
      " [3.14901238e-09 6.44730899e-05 2.27269559e-09 1.08168842e-06\n",
      "  2.69738916e-06 2.74462923e-06 1.23741266e-08 3.04912517e-09\n",
      "  1.43377931e-12 4.89222600e-07 1.34782852e-08 5.64866411e-08\n",
      "  1.65157026e-08 9.99895811e-01 2.55772051e-07 1.96091205e-05\n",
      "  5.51993651e-07 7.17379365e-08 9.15845339e-06 1.57944976e-06\n",
      "  4.90627955e-11 3.72623816e-07 1.23463320e-08 9.66014227e-07]]\n",
      "Predicted label: tf.Tensor(\n",
      "[15 18  0 10 13  5  9 17  9  1  1 10  3 15 13 11  5  0 15  0 18  5  0  1\n",
      " 18 13  3  0 10  6 19 13], shape=(32,), dtype=int64)\n"
     ]
    }
   ],
   "source": [
    "# Print what the top predicted class is\n",
    "preds = model.predict(imgs)\n",
    "pred_labels = tf.argmax(preds, axis = -1)\n",
    "\n",
    "print(\"Prediction output:\", preds)\n",
    "\n",
    "print(\"Predicted label:\", pred_labels)"
   ]
  },
  {
   "cell_type": "markdown",
   "metadata": {
    "id": "WtpblKe7-uGq"
   },
   "source": [
    "5. For all the images in the validation batch use the `make_gradcam_heatmap` to create a grad cam heatmap and store them all in a list. Then display the first heatmap."
   ]
  },
  {
   "cell_type": "code",
   "execution_count": 60,
   "metadata": {
    "colab": {
     "base_uri": "https://localhost:8080/",
     "height": 275
    },
    "executionInfo": {
     "elapsed": 6373,
     "status": "ok",
     "timestamp": 1618247253746,
     "user": {
      "displayName": "Charles Tanguy",
      "photoUrl": "",
      "userId": "11930294859591867631"
     },
     "user_tz": -120
    },
    "id": "2lBA5ugXIGcu",
    "outputId": "fe900678-8a62-4262-fcaf-1f96f6c672d6"
   },
   "outputs": [
    {
     "data": {
      "image/png": "[encoded data removed]",
      "text/plain": [
       "<Figure size 480x480 with 1 Axes>"
      ]
     },
     "metadata": {},
     "output_type": "display_data"
    }
   ],
   "source": [
    "# Generate class activation heatmap\n",
    "heatmaps = []\n",
    "\n",
    "for img in imgs:\n",
    "  heatmap = make_gradcam_heatmap(\n",
    "    tf.expand_dims(img,axis=0),base_model, model, last_conv_layer_name, classifier_layer_names\n",
    "  )\n",
    "  heatmaps.append(heatmap)\n",
    "\n",
    "\n",
    "# Display heatmap\n",
    "plt.matshow(heatmaps[0])\n",
    "plt.show()\n"
   ]
  },
  {
   "cell_type": "markdown",
   "metadata": {
    "id": "yyCflQl4Bf3O"
   },
   "source": [
    "6. Loop over each image, predicted label and heatmap in order to display the images with the superimposed grad cam heatmap and the corresponding predicted label. Do they match the true label? What happens to the grad cam for wrong predictions? Are there any grad cams that seem surprising to you?"
   ]
  },
  {
   "cell_type": "code",
   "execution_count": 61,
   "metadata": {
    "executionInfo": {
     "elapsed": 755,
     "status": "ok",
     "timestamp": 1618247285239,
     "user": {
      "displayName": "Charles Tanguy",
      "photoUrl": "",
      "userId": "11930294859591867631"
     },
     "user_tz": -120
    },
    "id": "z-Cb4wLNDdt0"
   },
   "outputs": [],
   "source": [
    "from pathlib import Path\n",
    "import matplotlib"
   ]
  },
  {
   "cell_type": "code",
   "execution_count": 63,
   "metadata": {
    "colab": {
     "base_uri": "https://localhost:8080/",
     "height": 1000
    },
    "executionInfo": {
     "elapsed": 1899,
     "status": "ok",
     "timestamp": 1618247329229,
     "user": {
      "displayName": "Charles Tanguy",
      "photoUrl": "",
      "userId": "11930294859591867631"
     },
     "user_tz": -120
    },
    "id": "ApJvFBzOKGtH",
    "outputId": "415818e7-2809-4dde-e4db-11df820448a3"
   },
   "outputs": [
    {
     "name": "stdout",
     "output_type": "stream",
     "text": [
      "Predicted label: Psoriasis pictures Lichen Planus and related diseases\n",
      "True label: Tinea Ringworm Candidiasis and other Fungal Infections\n"
     ]
    },
    {
     "data": {
      "image/jpeg": "[encoded data removed]",
      "text/plain": [
       "<IPython.core.display.Image object>"
      ]
     },
     "metadata": {},
     "output_type": "display_data"
    },
    {
     "name": "stdout",
     "output_type": "stream",
     "text": [
      "Predicted label: Systemic Disease\n",
      "True label: Psoriasis pictures Lichen Planus and related diseases\n"
     ]
    },
    {
     "data": {
      "image/jpeg": "[encoded data removed]",
      "text/plain": [
       "<IPython.core.display.Image object>"
      ]
     },
     "metadata": {},
     "output_type": "display_data"
    },
    {
     "name": "stdout",
     "output_type": "stream",
     "text": [
      "Predicted label: Acne and Rosacea Photos\n",
      "True label: Acne and Rosacea Photos\n"
     ]
    },
    {
     "data": {
      "image/jpeg": "[encoded data removed]",
      "text/plain": [
       "<IPython.core.display.Image object>"
      ]
     },
     "metadata": {},
     "output_type": "display_data"
    },
    {
     "name": "stdout",
     "output_type": "stream",
     "text": [
      "Predicted label: Light Diseases and Disorders of Pigmentation\n",
      "True label: Scabies Lyme Disease and other Infestations and Bites\n"
     ]
    },
    {
     "data": {
      "image/jpeg": "[encoded data removed]",
      "text/plain": [
       "<IPython.core.display.Image object>"
      ]
     },
     "metadata": {},
     "output_type": "display_data"
    },
    {
     "name": "stdout",
     "output_type": "stream",
     "text": [
      "Predicted label: Nail Fungus and other Nail Disease\n",
      "True label: Warts Molluscum and other Viral Infections\n"
     ]
    },
    {
     "data": {
      "image/jpeg": "[encoded data removed]",
      "text/plain": [
       "<IPython.core.display.Image object>"
      ]
     },
     "metadata": {},
     "output_type": "display_data"
    },
    {
     "name": "stdout",
     "output_type": "stream",
     "text": [
      "Predicted label: Eczema Photos\n",
      "True label: Eczema Photos\n"
     ]
    },
    {
     "data": {
      "image/jpeg": "[encoded data removed]",
      "text/plain": [
       "<IPython.core.display.Image object>"
      ]
     },
     "metadata": {},
     "output_type": "display_data"
    },
    {
     "name": "stdout",
     "output_type": "stream",
     "text": [
      "Predicted label: Herpes HPV and other STDs Photos\n",
      "True label: Vascular Tumors\n"
     ]
    },
    {
     "data": {
      "image/jpeg": "[encoded data removed]",
      "text/plain": [
       "<IPython.core.display.Image object>"
      ]
     },
     "metadata": {},
     "output_type": "display_data"
    },
    {
     "name": "stdout",
     "output_type": "stream",
     "text": [
      "Predicted label: Seborrheic Keratoses and other Benign Tumors\n",
      "True label: Seborrheic Keratoses and other Benign Tumors\n"
     ]
    },
    {
     "data": {
      "image/jpeg": "[encoded data removed]",
      "text/plain": [
       "<IPython.core.display.Image object>"
      ]
     },
     "metadata": {},
     "output_type": "display_data"
    },
    {
     "name": "stdout",
     "output_type": "stream",
     "text": [
      "Predicted label: Herpes HPV and other STDs Photos\n",
      "True label: Tinea Ringworm Candidiasis and other Fungal Infections\n"
     ]
    },
    {
     "data": {
      "image/jpeg": "[encoded data removed]",
      "text/plain": [
       "<IPython.core.display.Image object>"
      ]
     },
     "metadata": {},
     "output_type": "display_data"
    },
    {
     "name": "stdout",
     "output_type": "stream",
     "text": [
      "Predicted label: Actinic Keratosis Basal Cell Carcinoma and other Malignant Lesions\n",
      "True label: Tinea Ringworm Candidiasis and other Fungal Infections\n"
     ]
    },
    {
     "data": {
      "image/jpeg": "[encoded data removed]",
      "text/plain": [
       "<IPython.core.display.Image object>"
      ]
     },
     "metadata": {},
     "output_type": "display_data"
    },
    {
     "name": "stdout",
     "output_type": "stream",
     "text": [
      "Predicted label: Actinic Keratosis Basal Cell Carcinoma and other Malignant Lesions\n",
      "True label: Psoriasis pictures Lichen Planus and related diseases\n"
     ]
    },
    {
     "data": {
      "image/jpeg": "[encoded data removed]",
      "text/plain": [
       "<IPython.core.display.Image object>"
      ]
     },
     "metadata": {},
     "output_type": "display_data"
    },
    {
     "name": "stdout",
     "output_type": "stream",
     "text": [
      "Predicted label: Light Diseases and Disorders of Pigmentation\n",
      "True label: Warts Molluscum and other Viral Infections\n"
     ]
    },
    {
     "data": {
      "image/jpeg": "[encoded data removed]",
      "text/plain": [
       "<IPython.core.display.Image object>"
      ]
     },
     "metadata": {},
     "output_type": "display_data"
    },
    {
     "name": "stdout",
     "output_type": "stream",
     "text": [
      "Predicted label: Bullous Disease Photos\n",
      "True label: Scabies Lyme Disease and other Infestations and Bites\n"
     ]
    },
    {
     "data": {
      "image/jpeg": "[encoded data removed]",
      "text/plain": [
       "<IPython.core.display.Image object>"
      ]
     },
     "metadata": {},
     "output_type": "display_data"
    },
    {
     "name": "stdout",
     "output_type": "stream",
     "text": [
      "Predicted label: Psoriasis pictures Lichen Planus and related diseases\n",
      "True label: Seborrheic Keratoses and other Benign Tumors\n"
     ]
    },
    {
     "data": {
      "image/jpeg": "[encoded data removed]",
      "text/plain": [
       "<IPython.core.display.Image object>"
      ]
     },
     "metadata": {},
     "output_type": "display_data"
    },
    {
     "name": "stdout",
     "output_type": "stream",
     "text": [
      "Predicted label: Nail Fungus and other Nail Disease\n",
      "True label: Nail Fungus and other Nail Disease\n"
     ]
    },
    {
     "data": {
      "image/jpeg": "[encoded data removed]",
      "text/plain": [
       "<IPython.core.display.Image object>"
      ]
     },
     "metadata": {},
     "output_type": "display_data"
    },
    {
     "name": "stdout",
     "output_type": "stream",
     "text": [
      "Predicted label: Lupus and other Connective Tissue diseases\n",
      "True label: Acne and Rosacea Photos\n"
     ]
    },
    {
     "data": {
      "image/jpeg": "[encoded data removed]",
      "text/plain": [
       "<IPython.core.display.Image object>"
      ]
     },
     "metadata": {},
     "output_type": "display_data"
    },
    {
     "name": "stdout",
     "output_type": "stream",
     "text": [
      "Predicted label: Eczema Photos\n",
      "True label: Vasculitis Photos\n"
     ]
    },
    {
     "data": {
      "image/jpeg": "[encoded data removed]",
      "text/plain": [
       "<IPython.core.display.Image object>"
      ]
     },
     "metadata": {},
     "output_type": "display_data"
    },
    {
     "name": "stdout",
     "output_type": "stream",
     "text": [
      "Predicted label: Acne and Rosacea Photos\n",
      "True label: Acne and Rosacea Photos\n"
     ]
    },
    {
     "data": {
      "image/jpeg": "[encoded data removed]",
      "text/plain": [
       "<IPython.core.display.Image object>"
      ]
     },
     "metadata": {},
     "output_type": "display_data"
    },
    {
     "name": "stdout",
     "output_type": "stream",
     "text": [
      "Predicted label: Psoriasis pictures Lichen Planus and related diseases\n",
      "True label: Tinea Ringworm Candidiasis and other Fungal Infections\n"
     ]
    },
    {
     "data": {
      "image/jpeg": "[encoded data removed]",
      "text/plain": [
       "<IPython.core.display.Image object>"
      ]
     },
     "metadata": {},
     "output_type": "display_data"
    },
    {
     "name": "stdout",
     "output_type": "stream",
     "text": [
      "Predicted label: Acne and Rosacea Photos\n",
      "True label: Actinic Keratosis Basal Cell Carcinoma and other Malignant Lesions\n"
     ]
    },
    {
     "data": {
      "image/jpeg": "[encoded data removed]",
      "text/plain": [
       "<IPython.core.display.Image object>"
      ]
     },
     "metadata": {},
     "output_type": "display_data"
    },
    {
     "name": "stdout",
     "output_type": "stream",
     "text": [
      "Predicted label: Systemic Disease\n",
      "True label: Actinic Keratosis Basal Cell Carcinoma and other Malignant Lesions\n"
     ]
    },
    {
     "data": {
      "image/jpeg": "[encoded data removed]",
      "text/plain": [
       "<IPython.core.display.Image object>"
      ]
     },
     "metadata": {},
     "output_type": "display_data"
    },
    {
     "name": "stdout",
     "output_type": "stream",
     "text": [
      "Predicted label: Eczema Photos\n",
      "True label: Eczema Photos\n"
     ]
    },
    {
     "data": {
      "image/jpeg": "[encoded data removed]",
      "text/plain": [
       "<IPython.core.display.Image object>"
      ]
     },
     "metadata": {},
     "output_type": "display_data"
    },
    {
     "name": "stdout",
     "output_type": "stream",
     "text": [
      "Predicted label: Acne and Rosacea Photos\n",
      "True label: Eczema Photos\n"
     ]
    },
    {
     "data": {
      "image/jpeg": "[encoded data removed]",
      "text/plain": [
       "<IPython.core.display.Image object>"
      ]
     },
     "metadata": {},
     "output_type": "display_data"
    },
    {
     "name": "stdout",
     "output_type": "stream",
     "text": [
      "Predicted label: Actinic Keratosis Basal Cell Carcinoma and other Malignant Lesions\n",
      "True label: Tinea Ringworm Candidiasis and other Fungal Infections\n"
     ]
    },
    {
     "data": {
      "image/jpeg": "[encoded data removed]",
      "text/plain": [
       "<IPython.core.display.Image object>"
      ]
     },
     "metadata": {},
     "output_type": "display_data"
    },
    {
     "name": "stdout",
     "output_type": "stream",
     "text": [
      "Predicted label: Systemic Disease\n",
      "True label: Warts Molluscum and other Viral Infections\n"
     ]
    },
    {
     "data": {
      "image/jpeg": "[encoded data removed]",
      "text/plain": [
       "<IPython.core.display.Image object>"
      ]
     },
     "metadata": {},
     "output_type": "display_data"
    },
    {
     "name": "stdout",
     "output_type": "stream",
     "text": [
      "Predicted label: Nail Fungus and other Nail Disease\n",
      "True label: Bullous Disease Photos\n"
     ]
    },
    {
     "data": {
      "image/jpeg": "[encoded data removed]",
      "text/plain": [
       "<IPython.core.display.Image object>"
      ]
     },
     "metadata": {},
     "output_type": "display_data"
    },
    {
     "name": "stdout",
     "output_type": "stream",
     "text": [
      "Predicted label: Bullous Disease Photos\n",
      "True label: Herpes HPV and other STDs Photos\n"
     ]
    },
    {
     "data": {
      "image/jpeg": "[encoded data removed]",
      "text/plain": [
       "<IPython.core.display.Image object>"
      ]
     },
     "metadata": {},
     "output_type": "display_data"
    },
    {
     "name": "stdout",
     "output_type": "stream",
     "text": [
      "Predicted label: Acne and Rosacea Photos\n",
      "True label: Acne and Rosacea Photos\n"
     ]
    },
    {
     "data": {
      "image/jpeg": "[encoded data removed]",
      "text/plain": [
       "<IPython.core.display.Image object>"
      ]
     },
     "metadata": {},
     "output_type": "display_data"
    },
    {
     "name": "stdout",
     "output_type": "stream",
     "text": [
      "Predicted label: Light Diseases and Disorders of Pigmentation\n",
      "True label: Bullous Disease Photos\n"
     ]
    },
    {
     "data": {
      "image/jpeg": "[encoded data removed]",
      "text/plain": [
       "<IPython.core.display.Image object>"
      ]
     },
     "metadata": {},
     "output_type": "display_data"
    },
    {
     "name": "stdout",
     "output_type": "stream",
     "text": [
      "Predicted label: Exanthems and Drug Eruptions\n",
      "True label: Exanthems and Drug Eruptions\n"
     ]
    },
    {
     "data": {
      "image/jpeg": "[encoded data removed]",
      "text/plain": [
       "<IPython.core.display.Image object>"
      ]
     },
     "metadata": {},
     "output_type": "display_data"
    },
    {
     "name": "stdout",
     "output_type": "stream",
     "text": [
      "Predicted label: Tinea Ringworm Candidiasis and other Fungal Infections\n",
      "True label: Systemic Disease\n"
     ]
    },
    {
     "data": {
      "image/jpeg": "[encoded data removed]",
      "text/plain": [
       "<IPython.core.display.Image object>"
      ]
     },
     "metadata": {},
     "output_type": "display_data"
    },
    {
     "name": "stdout",
     "output_type": "stream",
     "text": [
      "Predicted label: Nail Fungus and other Nail Disease\n",
      "True label: Eczema Photos\n"
     ]
    },
    {
     "data": {
      "image/jpeg": "[encoded data removed]",
      "text/plain": [
       "<IPython.core.display.Image object>"
      ]
     },
     "metadata": {},
     "output_type": "display_data"
    }
   ],
   "source": [
    " for img, pred_label, true_label, heatmap in zip(imgs, pred_labels, labels, heatmaps): \n",
    "  # We rescale heatmap to a range 0-255\n",
    "  heatmap = np.uint8(255 * heatmap)\n",
    "\n",
    "  # We use jet colormap to colorize heatmap\n",
    "  jet = matplotlib.colormaps.get_cmap(\"jet\")\n",
    "\n",
    "  # We use RGB values of the colormap\n",
    "  jet_colors = jet(np.arange(256))[:, :3]\n",
    "  jet_heatmap = jet_colors[heatmap]\n",
    "\n",
    "  # We create an image with RGB colorized heatmap\n",
    "  jet_heatmap = keras.preprocessing.image.array_to_img(jet_heatmap)\n",
    "  jet_heatmap = jet_heatmap.resize((img.shape[1], img.shape[0]))\n",
    "  jet_heatmap = keras.preprocessing.image.img_to_array(jet_heatmap)\n",
    "\n",
    "  # Superimpose the heatmap on original image\n",
    "  superimposed_img = jet_heatmap * 0.003 + img\n",
    "  superimposed_img = keras.preprocessing.image.array_to_img(superimposed_img)\n",
    "\n",
    "  # Save the superimposed image\n",
    "  save_path = \"saved_img.jpg\"\n",
    "  superimposed_img.save(save_path)\n",
    "\n",
    "  # Display Grad CAM\n",
    "  pred_file_path = np.argmax(img_generator_flow_valid.labels == pred_label)\n",
    "  pred_label_name = Path(img_generator_flow_valid.filepaths[pred_file_path]).parent.name\n",
    "\n",
    "  true_file_path = np.argmax(img_generator_flow_valid.labels == tf.argmax(true_label))\n",
    "  true_label_name = Path(img_generator_flow_valid.filepaths[true_file_path]).parent.name\n",
    "\n",
    "  print(\"Predicted label:\",pred_label_name)\n",
    "  print(\"True label:\", true_label_name)\n",
    "\n",
    "  display(Image(save_path))"
   ]
  },
  {
   "cell_type": "code",
   "execution_count": null,
   "metadata": {
    "id": "o4kS0lwBCaK6"
   },
   "outputs": [],
   "source": []
  }
 ],
 "metadata": {
  "accelerator": "GPU",
  "colab": {
   "collapsed_sections": [],
   "machine_shape": "hm",
   "name": "01-Caltech101_transfer_learning.ipynb",
   "provenance": [],
   "toc_visible": true
  },
  "kernelspec": {
   "display_name": "Python 3 (ipykernel)",
   "language": "python",
   "name": "python3"
  },
  "language_info": {
   "codemirror_mode": {
    "name": "ipython",
    "version": 3
   },
   "file_extension": ".py",
   "mimetype": "text/x-python",
   "name": "python",
   "nbconvert_exporter": "python",
   "pygments_lexer": "ipython3",
   "version": "3.11.0rc1"
  }
 },
 "nbformat": 4,
 "nbformat_minor": 4
}
