{
 "cells": [
  {
   "cell_type": "code",
   "execution_count": null,
   "metadata": {},
   "outputs": [],
   "source": [
    "import os\n",
    "from PIL import Image\n",
    "\n",
    "def redimensionner_image(image_path, output_size):\n",
    "    print(image_path)\n",
    "    with Image.open(image_path) as img:\n",
    "\n",
    "        img = img.resize(output_size, Image.ANTIALIAS)\n",
    "        img.save(image_path)\n",
    "        img.resize(512, 512)\n",
    "      \n",
    "\n",
    "def parcourir_et_redimensionner(repertoire, output_size):\n",
    "    print(repertoire)\n",
    "    for root, _, files in os.walk(repertoire):\n",
    "        print(root)\n",
    "        print(files)\n",
    "        for file in files:\n",
    "            print(\"Bonjour !\")\n",
    "            if file.lower().endswith(('.png', '.jpg', '.jpeg', '.bmp', '.gif')):\n",
    "                \n",
    "                image_path = os.path.join(root, file)\n",
    "                try:\n",
    "                    redimensionner_image(image_path, output_size)\n",
    "                    print(f\"Redimensionné: {image_path}\")\n",
    "                except Exception as e:\n",
    "                    print(f\"Erreur avec {image_path}: {e}\")\n",
    "\n",
    "# Exemple d'utilisation\n",
    "repertoire = r\"D:\\Formation\\IA\\Jedha\\Formations\\Fullstack\\Projet Skin Classification\\data\\Peaux malades\"\n",
    "output_size = (512, 512)  # Taille souhaitée (largeur, hauteur)\n",
    "parcourir_et_redimensionner(repertoire, output_size)\n",
    "\n"
   ]
  }
 ],
 "metadata": {
  "kernelspec": {
   "display_name": "base",
   "language": "python",
   "name": "python3"
  },
  "language_info": {
   "codemirror_mode": {
    "name": "ipython",
    "version": 3
   },
   "file_extension": ".py",
   "mimetype": "text/x-python",
   "name": "python",
   "nbconvert_exporter": "python",
   "pygments_lexer": "ipython3",
   "version": "3.11.5"
  }
 },
 "nbformat": 4,
 "nbformat_minor": 2
}
